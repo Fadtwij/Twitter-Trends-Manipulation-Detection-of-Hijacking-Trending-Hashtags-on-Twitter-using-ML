{
  "nbformat": 4,
  "nbformat_minor": 0,
  "metadata": {
    "colab": {
      "provenance": []
    },
    "kernelspec": {
      "display_name": "Python 3",
      "name": "python3"
    },
    "language_info": {
      "name": "python"
    },
    "gpuClass": "standard"
  },
  "cells": [
    {
      "cell_type": "markdown",
      "source": [
        "# Hashtag Hijacking Detection by Analysing Tweets' Relevance, Binary Classification\n",
        "\n",
        "## Outline\n",
        "- [ 1- Libraries](#1)\n",
        "- [ 2- Dataset](#2)\n",
        "  - [ 2.1  Description of the input data](#2.1)\n",
        "  - [ 2.2  Exploratory Data Analysis](#2.2)\n",
        "  - [ 2.3  Data Sampling](#2.3)\n",
        "  - [ 2.4  Data Preprocessing](#2.4)\n",
        "  - [ 2.5  Data Splitting](#2.5)\n",
        "- [ 3- Model Implementation](#3)\n",
        "  - [3.1 Count Vectorizer](#3.2)\n",
        "    - [ 3.1.1 Logistic Regression](#3.1.1)\n",
        "    - [ 3.1.2 K-nearest Neighbors](#3.1.2)\n",
        "    - [ 3.1.3 Support Vector Machine](#3.1.3)\n",
        "    - [ 3.1.4 Random Forest Classifier](#3.1.4)\n",
        "    - [ 3.1.5 Extra Tree Classifier](#3.1.5)\n",
        "    - [ 3.1.6 Gaussian Naive Bayes](#3.1.6)\n",
        "    - [ 3.1.7 Multinomial Naive Bayes](#3.1.7)\n",
        "    - [ 3.1.8 Gradient Boosting](#3.1.8)\n",
        "    - [ 3.1.9 XG-boost Classifier](#3.1.9)\n",
        "    - [ 3.1.10 Ada-boost Classifier](#3.1.10)\n",
        "    - [ 3.1.11 MLPClassifier](#3.1.11)\n",
        "    - [ 3.1.12 VotingClassifier](#3.1.12)\n",
        "  - [3.2 TF-IDF Vectorizer](#3.2)\n",
        "    - [ 3.2.1 Logistic Regression](#3.2.1)\n",
        "    - [ 3.2.2 K-nearest Neighbors](#3.2.2)\n",
        "    - [ 3.2.3 Support Vector Machine](#3.2.3)\n",
        "    - [ 3.2.4 Random Forest Classifier](#3.2.4)\n",
        "    - [ 3.2.5 Extra Tree Classifier](#3.2.5)\n",
        "    - [ 3.2.6 Gaussian Naive Bayes](#3.2.6)\n",
        "    - [ 3.2.7 Multinomial Naive Bayes](#3.2.7)\n",
        "    - [ 3.2.8 Gradient Boosting](#3.2.8)\n",
        "    - [ 3.2.9 XG-boost Classifier](#3.2.9)\n",
        "    - [ 3.2.10 Ada-boost Classifier](#3.2.10)\n",
        "    - [ 3.2.11 MLPClassifier](#3.2.11)\n",
        "    - [ 3.2.12 VotingClassifier](#3.2.12)\n",
        "- [ 4- Cumulative Evaluation](#4)\n",
        "- [ 5- Conclusion](#5)"
      ],
      "metadata": {
        "id": "5xPFYJo-VUU6"
      }
    },
    {
      "cell_type": "markdown",
      "source": [
        "<a name=\"1\"></a>\n",
        "## 1 - Libraries \n",
        "\n",
        "First, let's run the cell below to import some required packages.\n",
        "- [pandas](https://pandas.pydata.org/) a fast, powerful, flexible and easy to use open source data analysis and manipulation tools.\n",
        "- [seaborn](https://seaborn.pydata.org/) a Python data visualization library for drawing attractive and informative statistical graphics.\n",
        "- [numpy](https://numpy.org/) the core library for scientific computing in Python.\n",
        "- [matplotlib](http://matplotlib.org) a popular library to plot graphs in Python.\n",
        "- [time](https://docs.python.org/3/library/time.html) a library that provides various time-related functions.\n",
        "- [pickle](https://docs.python.org/3/library/pickle.html) a library that converts a Python object into a byte stream to store it in a file/database, maintain program state across sessions, or transport data over the network."
      ],
      "metadata": {
        "id": "Yza28OS3y7Za"
      }
    },
    {
      "cell_type": "code",
      "metadata": {
        "id": "C56H-HECDOdi"
      },
      "source": [
        "import pandas as pd\n",
        "import seaborn as sns\n",
        "import numpy as np\n",
        "import matplotlib.pyplot as plt\n",
        "import time\n",
        "import pickle"
      ],
      "execution_count": 3,
      "outputs": []
    },
    {
      "cell_type": "markdown",
      "source": [
        "<a name=\"2\"></a>\n",
        "## 2- Dataset\n",
        "\n",
        "Start by reading the dataset for this code. \n",
        "- The dataset contains tweets labeled as 0=relevant or 1=irrelevant.\n",
        "\n",
        "- The data set contains 9469 training examples, 8653 of them are irrelevant tweets.\n",
        "\n",
        "- It contains the following features:\n",
        "  - 'created_at' UTC time in which this Tweet was created.\n",
        "  - 'full-text' the tweet full text.\n",
        "  - 'screan_name' the username of the tweeter.\n",
        "  - 'followers_count' the number of followers this user has.\n",
        "  - 'following_count' the number of accounts this user is following. \n",
        "  - 'rtweet_count' the number of times this Tweet has been retweeted. \n",
        "  - 'favorites_count' the number of times this Tweet has been liked by other Twitter users.\n",
        "  - 'Hashtag' the hashatg in which the tweet was posted with.\n",
        "  - 'res' indicates whether the tweet is relevant to the hashtag it is posted with or not. It takes value 1 in case of irrelevant and 0 otherwise."
      ],
      "metadata": {
        "id": "Ek2pBq9GzATf"
      }
    },
    {
      "cell_type": "code",
      "source": [
        "Dataset = pd.read_csv('FinalDataset.csv')\n",
        "Dataset.head()"
      ],
      "metadata": {
        "id": "1qP5q1cmvevD",
        "colab": {
          "base_uri": "https://localhost:8080/",
          "height": 458
        },
        "outputId": "78beb7ac-93e3-4aa3-d238-57d5e77990c1"
      },
      "execution_count": 4,
      "outputs": [
        {
          "output_type": "execute_result",
          "data": {
            "text/plain": [
              "   Unnamed: 0                      created_at  res  \\\n",
              "0        1488  Thu Apr 01 17:29:15 +0000 2021    1   \n",
              "1        1808  Tue Mar 23 17:03:29 +0000 2021    1   \n",
              "2         733  Fri Mar 26 04:56:26 +0000 2021    0   \n",
              "3         111  Mon Mar 22 03:33:35 +0000 2021    1   \n",
              "4         873  Wed Mar 31 04:44:38 +0000 2021    1   \n",
              "\n",
              "                                           full_text      screen_name  \\\n",
              "0  RT @IgnacioDiMeglio: THE REAL SHOWDOWN IS HERE...  IgnacioDiMeglio   \n",
              "1  RT @ankush_prashar: On #ShaheedDiwas, great sa...        atuverma1   \n",
              "2  RT @MANJULtoons: #GNCTDBill\\nMy #cartoon for @...      seemamarch1   \n",
              "3  RT @Nadeshot: Wow, #SnydersCut Justice League ...       JeniusKuya   \n",
              "4  RT @rishabh_memes: #instagramdown \\nAfter goin...        wtf_ankur   \n",
              "\n",
              "   followers_count  friends_count  retweet_count  favorite_count  \\\n",
              "0              397            804            5.0             0.0   \n",
              "1               89             28            3.0             0.0   \n",
              "2              252            466          170.0             0.0   \n",
              "3               71            674          392.0             0.0   \n",
              "4             2484           1335           69.0            69.0   \n",
              "\n",
              "          Hashtag  \n",
              "0  godzillavskong  \n",
              "1      MartyrsDay  \n",
              "2       GNCTDBill  \n",
              "3      snyderscut  \n",
              "4   instagramdown  "
            ],
            "text/html": [
              "\n",
              "  <div id=\"df-9a99ba05-2467-4310-b949-c69380413932\">\n",
              "    <div class=\"colab-df-container\">\n",
              "      <div>\n",
              "<style scoped>\n",
              "    .dataframe tbody tr th:only-of-type {\n",
              "        vertical-align: middle;\n",
              "    }\n",
              "\n",
              "    .dataframe tbody tr th {\n",
              "        vertical-align: top;\n",
              "    }\n",
              "\n",
              "    .dataframe thead th {\n",
              "        text-align: right;\n",
              "    }\n",
              "</style>\n",
              "<table border=\"1\" class=\"dataframe\">\n",
              "  <thead>\n",
              "    <tr style=\"text-align: right;\">\n",
              "      <th></th>\n",
              "      <th>Unnamed: 0</th>\n",
              "      <th>created_at</th>\n",
              "      <th>res</th>\n",
              "      <th>full_text</th>\n",
              "      <th>screen_name</th>\n",
              "      <th>followers_count</th>\n",
              "      <th>friends_count</th>\n",
              "      <th>retweet_count</th>\n",
              "      <th>favorite_count</th>\n",
              "      <th>Hashtag</th>\n",
              "    </tr>\n",
              "  </thead>\n",
              "  <tbody>\n",
              "    <tr>\n",
              "      <th>0</th>\n",
              "      <td>1488</td>\n",
              "      <td>Thu Apr 01 17:29:15 +0000 2021</td>\n",
              "      <td>1</td>\n",
              "      <td>RT @IgnacioDiMeglio: THE REAL SHOWDOWN IS HERE...</td>\n",
              "      <td>IgnacioDiMeglio</td>\n",
              "      <td>397</td>\n",
              "      <td>804</td>\n",
              "      <td>5.0</td>\n",
              "      <td>0.0</td>\n",
              "      <td>godzillavskong</td>\n",
              "    </tr>\n",
              "    <tr>\n",
              "      <th>1</th>\n",
              "      <td>1808</td>\n",
              "      <td>Tue Mar 23 17:03:29 +0000 2021</td>\n",
              "      <td>1</td>\n",
              "      <td>RT @ankush_prashar: On #ShaheedDiwas, great sa...</td>\n",
              "      <td>atuverma1</td>\n",
              "      <td>89</td>\n",
              "      <td>28</td>\n",
              "      <td>3.0</td>\n",
              "      <td>0.0</td>\n",
              "      <td>MartyrsDay</td>\n",
              "    </tr>\n",
              "    <tr>\n",
              "      <th>2</th>\n",
              "      <td>733</td>\n",
              "      <td>Fri Mar 26 04:56:26 +0000 2021</td>\n",
              "      <td>0</td>\n",
              "      <td>RT @MANJULtoons: #GNCTDBill\\nMy #cartoon for @...</td>\n",
              "      <td>seemamarch1</td>\n",
              "      <td>252</td>\n",
              "      <td>466</td>\n",
              "      <td>170.0</td>\n",
              "      <td>0.0</td>\n",
              "      <td>GNCTDBill</td>\n",
              "    </tr>\n",
              "    <tr>\n",
              "      <th>3</th>\n",
              "      <td>111</td>\n",
              "      <td>Mon Mar 22 03:33:35 +0000 2021</td>\n",
              "      <td>1</td>\n",
              "      <td>RT @Nadeshot: Wow, #SnydersCut Justice League ...</td>\n",
              "      <td>JeniusKuya</td>\n",
              "      <td>71</td>\n",
              "      <td>674</td>\n",
              "      <td>392.0</td>\n",
              "      <td>0.0</td>\n",
              "      <td>snyderscut</td>\n",
              "    </tr>\n",
              "    <tr>\n",
              "      <th>4</th>\n",
              "      <td>873</td>\n",
              "      <td>Wed Mar 31 04:44:38 +0000 2021</td>\n",
              "      <td>1</td>\n",
              "      <td>RT @rishabh_memes: #instagramdown \\nAfter goin...</td>\n",
              "      <td>wtf_ankur</td>\n",
              "      <td>2484</td>\n",
              "      <td>1335</td>\n",
              "      <td>69.0</td>\n",
              "      <td>69.0</td>\n",
              "      <td>instagramdown</td>\n",
              "    </tr>\n",
              "  </tbody>\n",
              "</table>\n",
              "</div>\n",
              "      <button class=\"colab-df-convert\" onclick=\"convertToInteractive('df-9a99ba05-2467-4310-b949-c69380413932')\"\n",
              "              title=\"Convert this dataframe to an interactive table.\"\n",
              "              style=\"display:none;\">\n",
              "        \n",
              "  <svg xmlns=\"http://www.w3.org/2000/svg\" height=\"24px\"viewBox=\"0 0 24 24\"\n",
              "       width=\"24px\">\n",
              "    <path d=\"M0 0h24v24H0V0z\" fill=\"none\"/>\n",
              "    <path d=\"M18.56 5.44l.94 2.06.94-2.06 2.06-.94-2.06-.94-.94-2.06-.94 2.06-2.06.94zm-11 1L8.5 8.5l.94-2.06 2.06-.94-2.06-.94L8.5 2.5l-.94 2.06-2.06.94zm10 10l.94 2.06.94-2.06 2.06-.94-2.06-.94-.94-2.06-.94 2.06-2.06.94z\"/><path d=\"M17.41 7.96l-1.37-1.37c-.4-.4-.92-.59-1.43-.59-.52 0-1.04.2-1.43.59L10.3 9.45l-7.72 7.72c-.78.78-.78 2.05 0 2.83L4 21.41c.39.39.9.59 1.41.59.51 0 1.02-.2 1.41-.59l7.78-7.78 2.81-2.81c.8-.78.8-2.07 0-2.86zM5.41 20L4 18.59l7.72-7.72 1.47 1.35L5.41 20z\"/>\n",
              "  </svg>\n",
              "      </button>\n",
              "      \n",
              "  <style>\n",
              "    .colab-df-container {\n",
              "      display:flex;\n",
              "      flex-wrap:wrap;\n",
              "      gap: 12px;\n",
              "    }\n",
              "\n",
              "    .colab-df-convert {\n",
              "      background-color: #E8F0FE;\n",
              "      border: none;\n",
              "      border-radius: 50%;\n",
              "      cursor: pointer;\n",
              "      display: none;\n",
              "      fill: #1967D2;\n",
              "      height: 32px;\n",
              "      padding: 0 0 0 0;\n",
              "      width: 32px;\n",
              "    }\n",
              "\n",
              "    .colab-df-convert:hover {\n",
              "      background-color: #E2EBFA;\n",
              "      box-shadow: 0px 1px 2px rgba(60, 64, 67, 0.3), 0px 1px 3px 1px rgba(60, 64, 67, 0.15);\n",
              "      fill: #174EA6;\n",
              "    }\n",
              "\n",
              "    [theme=dark] .colab-df-convert {\n",
              "      background-color: #3B4455;\n",
              "      fill: #D2E3FC;\n",
              "    }\n",
              "\n",
              "    [theme=dark] .colab-df-convert:hover {\n",
              "      background-color: #434B5C;\n",
              "      box-shadow: 0px 1px 3px 1px rgba(0, 0, 0, 0.15);\n",
              "      filter: drop-shadow(0px 1px 2px rgba(0, 0, 0, 0.3));\n",
              "      fill: #FFFFFF;\n",
              "    }\n",
              "  </style>\n",
              "\n",
              "      <script>\n",
              "        const buttonEl =\n",
              "          document.querySelector('#df-9a99ba05-2467-4310-b949-c69380413932 button.colab-df-convert');\n",
              "        buttonEl.style.display =\n",
              "          google.colab.kernel.accessAllowed ? 'block' : 'none';\n",
              "\n",
              "        async function convertToInteractive(key) {\n",
              "          const element = document.querySelector('#df-9a99ba05-2467-4310-b949-c69380413932');\n",
              "          const dataTable =\n",
              "            await google.colab.kernel.invokeFunction('convertToInteractive',\n",
              "                                                     [key], {});\n",
              "          if (!dataTable) return;\n",
              "\n",
              "          const docLinkHtml = 'Like what you see? Visit the ' +\n",
              "            '<a target=\"_blank\" href=https://colab.research.google.com/notebooks/data_table.ipynb>data table notebook</a>'\n",
              "            + ' to learn more about interactive tables.';\n",
              "          element.innerHTML = '';\n",
              "          dataTable['output_type'] = 'display_data';\n",
              "          await google.colab.output.renderOutput(dataTable, element);\n",
              "          const docLink = document.createElement('div');\n",
              "          docLink.innerHTML = docLinkHtml;\n",
              "          element.appendChild(docLink);\n",
              "        }\n",
              "      </script>\n",
              "    </div>\n",
              "  </div>\n",
              "  "
            ]
          },
          "metadata": {},
          "execution_count": 4
        }
      ]
    },
    {
      "cell_type": "markdown",
      "source": [
        "<a name=\"2.1\"></a>\n",
        "### 2.1  Description of the input data\n",
        "\n",
        "Here we can see the data Types & Shape"
      ],
      "metadata": {
        "id": "dbFwEw_M216I"
      }
    },
    {
      "cell_type": "code",
      "metadata": {
        "id": "gduv-6VnDbmC",
        "colab": {
          "base_uri": "https://localhost:8080/"
        },
        "outputId": "d3fdfa76-db0c-4d4a-9550-550e7698fd3f"
      },
      "source": [
        "#Dataset = Dataset.iloc[:,:] ???\n",
        "print(\"Dataset Data Types:\\n\",Dataset.dtypes)\n",
        "print(\"\\n\\nDataset Shape: \", Dataset.shape)"
      ],
      "execution_count": 5,
      "outputs": [
        {
          "output_type": "stream",
          "name": "stdout",
          "text": [
            "Dataset Data Types:\n",
            " Unnamed: 0           int64\n",
            "created_at          object\n",
            "res                  int64\n",
            "full_text           object\n",
            "screen_name         object\n",
            "followers_count      int64\n",
            "friends_count        int64\n",
            "retweet_count      float64\n",
            "favorite_count     float64\n",
            "Hashtag             object\n",
            "dtype: object\n",
            "\n",
            "\n",
            "Dataset Shape:  (9469, 10)\n"
          ]
        }
      ]
    },
    {
      "cell_type": "markdown",
      "source": [
        "### Transform from a Pandas dataframe into a Numpy array"
      ],
      "metadata": {
        "id": "vpVAMfGRpoxE"
      }
    },
    {
      "cell_type": "code",
      "metadata": {
        "id": "MYM5_aSvESYX",
        "colab": {
          "base_uri": "https://localhost:8080/"
        },
        "outputId": "4c221d5c-91a0-44fb-8cd9-83c7c6cda64d"
      },
      "source": [
        "# Transform from a Pandas dataframe into a Numpy array\n",
        "DatasetNp = Dataset.to_numpy()\n",
        "DatasetNp[:,8] = DatasetNp[:,8].astype('i')\n",
        "print(DatasetNp.shape)\n",
        "\n",
        "\n",
        "# assign the tweets to X, and the labels to Y\n",
        "X, y = DatasetNp[:,3],DatasetNp[:,2]\n",
        "print(X.shape)\n",
        "print(y.shape)\n",
        "print(X[:5])\n",
        "print(y[:5])\n",
        "\n",
        "\n",
        "\n",
        "Xn = []\n",
        "yn = []\n",
        "for i in range(len(X)):\n",
        "  if((y[i] == 0 or y[i] == 1) and int(y[i]) >= 2):\n",
        "    continue\n",
        "  else:\n",
        "    Xn.append(X[i])\n",
        "    yn.append(y[i])\n",
        "\n",
        "X = np.array(Xn); y = np.array(yn);\n",
        "print(X.shape)\n",
        "print(y.shape)\n",
        "print(X[:5])\n",
        "print(y[:5])"
      ],
      "execution_count": 6,
      "outputs": [
        {
          "output_type": "stream",
          "name": "stdout",
          "text": [
            "(9469, 10)\n",
            "(9469,)\n",
            "(9469,)\n",
            "['RT @IgnacioDiMeglio: THE REAL SHOWDOWN IS HERE! #GodzillaVsKong is a thing of the past. It´s time for #Killeroo Vs #GorillaMyDreams. Killer…'\n",
            " 'RT @ankush_prashar: On #ShaheedDiwas, great salute to our martyrs #BhagatSingh #Sukhdev &amp; #Rajguru who laid down their lives for the freedo…'\n",
            " 'RT @MANJULtoons: #GNCTDBill\\nMy #cartoon for @firstpost\\nTelegram: https://t.co/0zuidcPdqY https://t.co/AAD6fyoaaR'\n",
            " 'RT @Nadeshot: Wow, #SnydersCut Justice League was absolutely phenomenal. Well worth the wait, all my expectations for the film were blown a…'\n",
            " 'RT @rishabh_memes: #instagramdown \\nAfter going down Instagram coming back online be like : https://t.co/jqrPyNmtHe']\n",
            "[1 1 0 1 1]\n",
            "(9469,)\n",
            "(9469,)\n",
            "['RT @IgnacioDiMeglio: THE REAL SHOWDOWN IS HERE! #GodzillaVsKong is a thing of the past. It´s time for #Killeroo Vs #GorillaMyDreams. Killer…'\n",
            " 'RT @ankush_prashar: On #ShaheedDiwas, great salute to our martyrs #BhagatSingh #Sukhdev &amp; #Rajguru who laid down their lives for the freedo…'\n",
            " 'RT @MANJULtoons: #GNCTDBill\\nMy #cartoon for @firstpost\\nTelegram: https://t.co/0zuidcPdqY https://t.co/AAD6fyoaaR'\n",
            " 'RT @Nadeshot: Wow, #SnydersCut Justice League was absolutely phenomenal. Well worth the wait, all my expectations for the film were blown a…'\n",
            " 'RT @rishabh_memes: #instagramdown \\nAfter going down Instagram coming back online be like : https://t.co/jqrPyNmtHe']\n",
            "[1 1 0 1 1]\n"
          ]
        }
      ]
    },
    {
      "cell_type": "markdown",
      "source": [
        "<a name=\"2.2\"></a>\n",
        "### 2.2  Exploratory Data Analysis\n",
        "\n",
        "2.2.1 Plotting Hashtags and their tweets relevance\n",
        "- The figur below shows the number of relevant and irrelevant tweets in eache Hashtag.\n",
        "- From the figure we can infer that all of the hashtags are hijacked."
      ],
      "metadata": {
        "id": "Xfs_1oSkem6T"
      }
    },
    {
      "cell_type": "code",
      "source": [
        "sns.set_style('whitegrid')\n",
        "sns.countplot(y='Hashtag', hue='res', data=Dataset, palette='crest')"
      ],
      "metadata": {
        "id": "OAjCJi2LYLQL",
        "colab": {
          "base_uri": "https://localhost:8080/",
          "height": 297
        },
        "outputId": "58dcfbc3-1ded-46f1-fbfd-e026e62683e6"
      },
      "execution_count": 7,
      "outputs": [
        {
          "output_type": "execute_result",
          "data": {
            "text/plain": [
              "<matplotlib.axes._subplots.AxesSubplot at 0x7f7ae9e3f730>"
            ]
          },
          "metadata": {},
          "execution_count": 7
        },
        {
          "output_type": "display_data",
          "data": {
            "text/plain": [
              "<Figure size 432x288 with 1 Axes>"
            ],
            "image/png": "[encoded data removed]"
          },
          "metadata": {}
        }
      ]
    },
    {
      "cell_type": "markdown",
      "source": [
        "2.2.2 Correlation Heatmap\n",
        "- The figur below shows the correlation between the features.\n",
        "- From the figure we can infer that non of these features affect the relevance of a tweet to a hashtag."
      ],
      "metadata": {
        "id": "WTtw68VYTGc7"
      }
    },
    {
      "cell_type": "code",
      "source": [
        "corr = Dataset.corr()\n",
        "plt.subplots(figsize =(9, 8))\n",
        "sns.heatmap(corr, cmap =\"YlGnBu\", linewidths = 0.1)\n",
        "plt.title(\"General Correlation\")"
      ],
      "metadata": {
        "id": "HOJ5qtsHSKic",
        "colab": {
          "base_uri": "https://localhost:8080/",
          "height": 585
        },
        "outputId": "d3b6eb1b-e8fa-4a91-80a7-315d143d2afd"
      },
      "execution_count": 8,
      "outputs": [
        {
          "output_type": "execute_result",
          "data": {
            "text/plain": [
              "Text(0.5, 1.0, 'General Correlation')"
            ]
          },
          "metadata": {},
          "execution_count": 8
        },
        {
          "output_type": "display_data",
          "data": {
            "text/plain": [
              "<Figure size 648x576 with 2 Axes>"
            ],
            "image/png": "[encoded data removed]"
          },
          "metadata": {}
        }
      ]
    },
    {
      "cell_type": "markdown",
      "source": [
        "2.2.3 Plotting Class Frequency\n",
        "- The plot below shows the number of 1=irrelevant and 0=relevant tweets in the dataset.\n",
        "- From the plot below we can infer that the dataset is biased and has more irrelevant tweets than relevant tweets. This bias must be resolved.\n"
      ],
      "metadata": {
        "id": "Zbr0kKdyU1mV"
      }
    },
    {
      "cell_type": "code",
      "source": [
        "label = pd.DataFrame(y)\n",
        "classFreq = label[0].value_counts()\n",
        "print(classFreq)\n",
        "classFreq.plot.barh()\n",
        "plt.show()"
      ],
      "metadata": {
        "id": "MPSFs3v4PFSh",
        "colab": {
          "base_uri": "https://localhost:8080/",
          "height": 319
        },
        "outputId": "ca8f35e3-0155-485b-d822-96455d55dc78"
      },
      "execution_count": 9,
      "outputs": [
        {
          "output_type": "stream",
          "name": "stdout",
          "text": [
            "1    8653\n",
            "0     816\n",
            "Name: 0, dtype: int64\n"
          ]
        },
        {
          "output_type": "display_data",
          "data": {
            "text/plain": [
              "<Figure size 432x288 with 1 Axes>"
            ],
            "image/png": "[encoded data removed]"
          },
          "metadata": {}
        }
      ]
    },
    {
      "cell_type": "markdown",
      "source": [
        "<a name=\"2.3\"></a>\n",
        "### 2.3  Data Sampling\n",
        "\n",
        "Resolve Bias by either runnibg oversampling OR undersampling code"
      ],
      "metadata": {
        "id": "wV9Awm983qip"
      }
    },
    {
      "cell_type": "markdown",
      "source": [
        "#### 2.3.1 Oversampling\n",
        "Duplicating the data samples of the minority class six times to create a more balanced dataset."
      ],
      "metadata": {
        "id": "igOdqAhRopRT"
      }
    },
    {
      "cell_type": "code",
      "metadata": {
        "id": "D20ZMCW-A3_o"
      },
      "source": [
        "# RUN oversampling OR undersampling code to resolve biase\n",
        "# Oversampling \n",
        "\n",
        "length = len(X)\n",
        "Xn = []; yn = [];\n",
        "for i in range(6):\n",
        "  for i in range(length):\n",
        "    if(y[i] == 0):\n",
        "      yn.append(y[i])\n",
        "      Xn.append(X[i])\n",
        "\n",
        "for i in range(length):\n",
        "  if(y[i] == 1):\n",
        "    yn.append(y[i])\n",
        "    Xn.append(X[i])\n",
        "\n",
        "X = np.array(Xn); y = np.array(yn);"
      ],
      "execution_count": 10,
      "outputs": []
    },
    {
      "cell_type": "markdown",
      "source": [
        "#### 2.3.2 Undersampling\n",
        "Eliminating a portion of the majority class's examples to achieve balance in the dataset."
      ],
      "metadata": {
        "id": "-Rd9hQQtorth"
      }
    },
    {
      "cell_type": "code",
      "metadata": {
        "id": "dl5is8HGropm",
        "colab": {
          "base_uri": "https://localhost:8080/",
          "height": 53
        },
        "outputId": "ca33fad4-fbf9-47d2-89b4-341b1ab08432"
      },
      "source": [
        "# To run this cell, remove \"\"\" above and below the code\n",
        "# Undersamplling\n",
        "\"\"\"\n",
        "length = len(X)\n",
        "Xn = []; yn = [];\n",
        "for i in range(length):\n",
        "   if(y[i] == 0):\n",
        "     yn.append(y[i])\n",
        "     Xn.append(X[i])\n",
        "\n",
        "for i in range(4*len(Xn)+20):\n",
        "   if(y[i] == 1):\n",
        "     yn.append(y[i])\n",
        "     Xn.append(X[i])\n",
        "\n",
        "X = np.array(Xn); y = np.array(yn);\n",
        "\"\"\""
      ],
      "execution_count": 11,
      "outputs": [
        {
          "output_type": "execute_result",
          "data": {
            "text/plain": [
              "'\\nlength = len(X)\\nXn = []; yn = [];\\nfor i in range(length):\\n   if(y[i] == 0):\\n     yn.append(y[i])\\n     Xn.append(X[i])\\n\\nfor i in range(4*len(Xn)+20):\\n   if(y[i] == 1):\\n     yn.append(y[i])\\n     Xn.append(X[i])\\n\\nX = np.array(Xn); y = np.array(yn);\\n'"
            ],
            "application/vnd.google.colaboratory.intrinsic+json": {
              "type": "string"
            }
          },
          "metadata": {},
          "execution_count": 11
        }
      ]
    },
    {
      "cell_type": "code",
      "metadata": {
        "id": "oefKEOQ_GzJQ",
        "colab": {
          "base_uri": "https://localhost:8080/",
          "height": 319
        },
        "outputId": "a63158e8-e64b-4a60-e259-c53ecda62651"
      },
      "source": [
        "# Plotting class frequency after over/under sampling\n",
        "\n",
        "label = pd.DataFrame(y)\n",
        "classFreq = label[0].value_counts()\n",
        "print(classFreq)\n",
        "classFreq.plot.barh()\n",
        "plt.show()"
      ],
      "execution_count": 12,
      "outputs": [
        {
          "output_type": "stream",
          "name": "stdout",
          "text": [
            "1    8653\n",
            "0    4896\n",
            "Name: 0, dtype: int64\n"
          ]
        },
        {
          "output_type": "display_data",
          "data": {
            "text/plain": [
              "<Figure size 432x288 with 1 Axes>"
            ],
            "image/png": "[encoded data removed]"
          },
          "metadata": {}
        }
      ]
    },
    {
      "cell_type": "markdown",
      "source": [
        "<a name=\"2.4\"></a>\n",
        "### 2.4  Data Preprocessing\n",
        "\n",
        "The objective of the preprocessing step is to normalize the text into an appropriate form that machine learning algorithms can digest.\n",
        "\n",
        "The applied preprocessing rules are: \n",
        "1. Removing punctuation and extra white space characters.\n",
        "2. Converting the text into lowercase.\n",
        "3. **Tokenization,** which splits the sentence into smaller units.\n",
        "4. **Stop-words removal** such as a, an, and the.\n",
        "5. **Lemmatization,** which groups different forms of a word togetherso they can be analysed as a single item."
      ],
      "metadata": {
        "id": "B1IXVkhOoawS"
      }
    },
    {
      "cell_type": "code",
      "metadata": {
        "id": "bTOdsFAb2v1h",
        "colab": {
          "base_uri": "https://localhost:8080/"
        },
        "outputId": "47030da6-b7d2-4186-ad82-6f0cccc33f85"
      },
      "source": [
        "import string\n",
        "import glob\n",
        "import nltk\n",
        "nltk.download('omw-1.4')\n",
        "nltk.download('punkt')\n",
        "nltk.download('stopwords')\n",
        "nltk.download('wordnet')\n",
        "from nltk.tokenize import word_tokenize\n",
        "from nltk.stem import WordNetLemmatizer\n",
        "from nltk.tokenize import word_tokenize\n",
        "from nltk.corpus import stopwords\n",
        "from nltk.corpus import stopwords\n",
        "\n",
        "stop_words = set(stopwords.words('english'))\n",
        "def preprocessing(doc):\n",
        "  puncd = {  }\n",
        "  for i in string.punctuation:\n",
        "    puncd[i] = ' '\n",
        "  doc = doc.translate(str.maketrans(puncd))                        #replacing the punctuation marks with white spaces. \n",
        "  doc = doc.strip()                                                #removing the extra white space characters. \n",
        "  doc = doc.lower()                                                #making the string to lower case letters. \n",
        "\n",
        "  tokens = word_tokenize(doc)                                      #tokenise the words to a list. \n",
        "  tokens_NoStop = [i for i in tokens if i not in stop_words]       #removing the stop words from the tokenised list. \n",
        "  \n",
        "  lemmatizer = WordNetLemmatizer()\n",
        "  lemmedWordtext = []\n",
        "  for i in range(len(tokens_NoStop)):\n",
        "    lemmedWordtext.append(lemmatizer.lemmatize(tokens_NoStop[i]))  #appending the lemmatized word in the list\n",
        "  return lemmedWordtext\n",
        "\n",
        "Xnew = []\n",
        "for i in range(len(X)):\n",
        "  preProcessed = preprocessing(X[i])                               #preprocessing tweets one by one\n",
        "  Xnew.append(preProcessed)                                        #appending the preprocessed tweet in the list\n",
        "\n",
        "print(Xnew[:5])"
      ],
      "execution_count": 13,
      "outputs": [
        {
          "output_type": "stream",
          "name": "stderr",
          "text": [
            "[nltk_data] Downloading package omw-1.4 to /root/nltk_data...\n",
            "[nltk_data] Downloading package punkt to /root/nltk_data...\n",
            "[nltk_data]   Unzipping tokenizers/punkt.zip.\n",
            "[nltk_data] Downloading package stopwords to /root/nltk_data...\n",
            "[nltk_data]   Unzipping corpora/stopwords.zip.\n",
            "[nltk_data] Downloading package wordnet to /root/nltk_data...\n"
          ]
        },
        {
          "output_type": "stream",
          "name": "stdout",
          "text": [
            "[['rt', 'manjultoons', 'gnctdbill', 'cartoon', 'firstpost', 'telegram', 'http', 'co', '0zuidcpdqy', 'http', 'co', 'aad6fyoaar'], ['rt', 'saahilmenghani', 'number', 'shoot', 'farmersprotest', 'site', 'young', 'farmer', 'arrive', 'village', 'martyrsday', 'शहीद', 'दिवस', 'singhu…'], ['rt', 'saahilmenghani', 'number', 'shoot', 'farmersprotest', 'site', 'young', 'farmer', 'arrive', 'village', 'martyrsday', 'शहीद', 'दिवस', 'singhu…'], ['started', 'trending', 'pakistan', 'instagramdown', 'ufff', 'happiest', 'great', 'job', 'sheikh', 'nawaz', 'sharif', 'louis', 'tomlinson', 'selena', 'hayeee', 'trump', 'itne', 'china', 'islam', 'south', 'punjab', 'almighty', 'allah', 'dm', 'aray', 'bilkul'], ['create', 'modern', 'flat', 'modern', 'web', 'ui', 'illustration', 'design', 'website', 'mobile', 'app', 'feel', 'free', 'contact', 'http', 'co', 'jhnnf64zz2', 'web', 'illustration', 'flat', 'illustration', 'graphic', 'design', 'saweetie', 'marchmadness', 'instagramdown', 'colgate', 'freecodefridaycontest']]\n"
          ]
        }
      ]
    },
    {
      "cell_type": "markdown",
      "source": [
        "<a name=\"2.5\"></a>\n",
        "### 2.5  Data Splitting\n",
        "\n",
        "Splitting the data into train-test-split: \n",
        "- 67% for training. \n",
        "- 33% for trsting."
      ],
      "metadata": {
        "id": "NWzpA6RwC2jn"
      }
    },
    {
      "cell_type": "code",
      "metadata": {
        "id": "XTYRzoZSrnQX",
        "colab": {
          "base_uri": "https://localhost:8080/"
        },
        "outputId": "8352d8c7-ef1f-4a25-a029-28441b2b31f2"
      },
      "source": [
        "# Split the data into 77% training and 33% testing\n",
        "from sklearn.model_selection import train_test_split\n",
        "\n",
        "X_train, X_test, y_train, y_test = train_test_split(X, y, test_size=0.33, stratify = y, random_state=37)\n",
        "print(X_train.shape)\n",
        "print(X_test.shape)"
      ],
      "execution_count": 14,
      "outputs": [
        {
          "output_type": "stream",
          "name": "stdout",
          "text": [
            "(9077,)\n",
            "(4472,)\n"
          ]
        }
      ]
    },
    {
      "cell_type": "markdown",
      "source": [
        "<a name=\"3\"></a>\n",
        "## 3 - Model Implementation\n",
        "\n",
        "Various machine learning methods are applied to detect hijacked hashtags based on tweets’ relevance. Each is used for both feature-generation techniques, count vectorizer and TF-IDF, to see which provides a higher accuracy.\n",
        "\n",
        "The used Machine Learning methods are:\n",
        "<ul type = \"circle\">  \n",
        "  <li>Logistic Regression</li> \n",
        "  <li>K-nearest Neighbors</li>\n",
        "  <li>Support Vector Machine</li>\n",
        "  <li>Random Forest Classifier</li>\n",
        "  <li>Extra Tree Classifier</li>\n",
        "  <li>Gaussian Naive Bayes</li>\n",
        "  <li>Multinomial Naive Bayes</li>\n",
        "  <li>Gradient Boosting</li>\n",
        "  <li>XG-boost Classifier</li>\n",
        "  <li>Ada-boost Classifier</li>\n",
        "  <li>MLPClassifier</li>\n",
        "  <li>VotingClassifier</li>\n",
        "</ul>"
      ],
      "metadata": {
        "id": "gLhUd3j4DzK2"
      }
    },
    {
      "cell_type": "markdown",
      "metadata": {
        "id": "0MORh4ue8Bbs"
      },
      "source": [
        "<a name=\"3.1\"></a>\n",
        "### 3.1 Count vectorizer\n",
        "\n",
        "Count Vectorizer transforms a given text into a vector based on the frequency of each word that occurs in entire text."
      ]
    },
    {
      "cell_type": "code",
      "metadata": {
        "id": "yAt4odW16Qzr",
        "colab": {
          "base_uri": "https://localhost:8080/"
        },
        "outputId": "71c04368-3a86-4d63-a009-b4175b6dfac7"
      },
      "source": [
        "from sklearn.feature_extraction.text import CountVectorizer\n",
        "\n",
        "vectorizer = CountVectorizer(tokenizer = preprocessing)\n",
        "X_trainT = vectorizer.fit_transform(X_train)\n",
        "features = vectorizer.get_feature_names()\n",
        "print(\"No of features after vectorizing X_train:\", len(features))\n",
        "X_testT  = vectorizer.transform(X_test)\n",
        "print(\"shape of X_trainT:\", X_trainT.shape)\n",
        "X_T = vectorizer.fit_transform(X)"
      ],
      "execution_count": 15,
      "outputs": [
        {
          "output_type": "stream",
          "name": "stderr",
          "text": [
            "/usr/local/lib/python3.8/dist-packages/sklearn/utils/deprecation.py:87: FutureWarning: Function get_feature_names is deprecated; get_feature_names is deprecated in 1.0 and will be removed in 1.2. Please use get_feature_names_out instead.\n",
            "  warnings.warn(msg, category=FutureWarning)\n"
          ]
        },
        {
          "output_type": "stream",
          "name": "stdout",
          "text": [
            "No of features after vectorizing X_train: 10685\n",
            "shape of X_trainT: (9077, 10685)\n"
          ]
        }
      ]
    },
    {
      "cell_type": "markdown",
      "source": [
        "<a name=\"3.1.1\"></a>\n",
        "**3.1.1 Logistic Regression**"
      ],
      "metadata": {
        "id": "bUEA-glDOL5n"
      }
    },
    {
      "cell_type": "code",
      "metadata": {
        "id": "ghtVkmwmFBqy",
        "colab": {
          "base_uri": "https://localhost:8080/"
        },
        "outputId": "1079d57d-35d3-4c21-ac7a-1119f004f487"
      },
      "source": [
        "from sklearn.linear_model import LogisticRegression\n",
        "from sklearn.metrics import accuracy_score\n",
        "from sklearn.metrics import confusion_matrix\n",
        "from sklearn.metrics import classification_report\n",
        "\n",
        "y_train = y_train.astype('i')\n",
        "y_test = y_test.astype('i')\n",
        "\n",
        "LOGclf = LogisticRegression(random_state=0, n_jobs = -1, max_iter = 1000, verbose= 2)\n",
        "t0 = time.time()\n",
        "LOGclf.fit(X_trainT, y_train)\n",
        "print(\"\\n\\nTraining time:\", time.time()-t0)\n",
        "\n",
        "t0 = time.time()\n",
        "y_pred = LOGclf.predict(X_testT)\n",
        "print(\"Testing  time:\", time.time()-t0,\"\\n\\n\")\n",
        "\n",
        "#Model Evaluation\n",
        "print(\"Confusion Matrix:\\n\",confusion_matrix(y_test, y_pred),'\\n')\n",
        "print(classification_report(y_test,y_pred),'\\n')\n",
        "print(\"Testing accuracy --> \",accuracy_score(y_test, y_pred),'\\n')\n",
        "\n",
        "#saving model then reading it again\n",
        "pickle.dump(LOGclf, open('LOGclfModel.sav', 'wb'))\n",
        "LOGclf = pickle.load(open('LOGclfModel.sav', 'rb'))"
      ],
      "execution_count": 16,
      "outputs": [
        {
          "output_type": "stream",
          "name": "stderr",
          "text": [
            "[Parallel(n_jobs=-1)]: Using backend LokyBackend with 2 concurrent workers.\n"
          ]
        },
        {
          "output_type": "stream",
          "name": "stdout",
          "text": [
            "\n",
            "\n",
            "Training time: 1.2823476791381836\n",
            "Testing  time: 0.00182342529296875 \n",
            "\n",
            "\n",
            "Confusion Matrix:\n",
            " [[1580   36]\n",
            " [  62 2794]] \n",
            "\n",
            "              precision    recall  f1-score   support\n",
            "\n",
            "           0       0.96      0.98      0.97      1616\n",
            "           1       0.99      0.98      0.98      2856\n",
            "\n",
            "    accuracy                           0.98      4472\n",
            "   macro avg       0.97      0.98      0.98      4472\n",
            "weighted avg       0.98      0.98      0.98      4472\n",
            " \n",
            "\n",
            "Testing accuracy -->  0.9780858676207513 \n",
            "\n"
          ]
        },
        {
          "output_type": "stream",
          "name": "stderr",
          "text": [
            "[Parallel(n_jobs=-1)]: Done   1 out of   1 | elapsed:    1.2s finished\n"
          ]
        }
      ]
    },
    {
      "cell_type": "markdown",
      "source": [
        "<a name=\"3.1.2\"></a>\n",
        "**3.1.2 K-nearest Neighbors**"
      ],
      "metadata": {
        "id": "HjkmjfcuPMuP"
      }
    },
    {
      "cell_type": "code",
      "metadata": {
        "id": "FE4b7IFMMQYk",
        "colab": {
          "base_uri": "https://localhost:8080/"
        },
        "outputId": "bfc5bf27-69e8-4541-e4ce-a7d01004bfd6"
      },
      "source": [
        "from sklearn.neighbors import KNeighborsClassifier\n",
        "\n",
        "KNNclf = KNeighborsClassifier(n_neighbors = 5, metric = 'minkowski',n_jobs = -1)\n",
        "t0 = time.time()\n",
        "KNNclf.fit(X_trainT, y_train)\n",
        "print(\"\\n\\nTraining time:\", time.time()-t0)\n",
        "\n",
        "t0 = time.time()\n",
        "y_pred = KNNclf.predict(X_testT)\n",
        "print(\"Testing  time:\", time.time()-t0,\"\\n\\n\")\n",
        "\n",
        "#Model Evaluation\n",
        "print(\"Confusion Matrix:\\n\",confusion_matrix(y_test, y_pred),'\\n')\n",
        "print(classification_report(y_test,y_pred),'\\n')\n",
        "print(\"Testing accuracy --> \",accuracy_score(y_test, y_pred),'\\n')\n",
        "\n",
        "#saving model then reading it again\n",
        "pickle.dump(KNNclf, open('KNNclfModel.sav', 'wb'))\n",
        "KNNclf = pickle.load(open('KNNclfModel.sav', 'rb'))"
      ],
      "execution_count": 17,
      "outputs": [
        {
          "output_type": "stream",
          "name": "stdout",
          "text": [
            "\n",
            "\n",
            "Training time: 0.002879619598388672\n",
            "Testing  time: 4.201925992965698 \n",
            "\n",
            "\n",
            "Confusion Matrix:\n",
            " [[1556   60]\n",
            " [ 262 2594]] \n",
            "\n",
            "              precision    recall  f1-score   support\n",
            "\n",
            "           0       0.86      0.96      0.91      1616\n",
            "           1       0.98      0.91      0.94      2856\n",
            "\n",
            "    accuracy                           0.93      4472\n",
            "   macro avg       0.92      0.94      0.92      4472\n",
            "weighted avg       0.93      0.93      0.93      4472\n",
            " \n",
            "\n",
            "Testing accuracy -->  0.9279964221824687 \n",
            "\n"
          ]
        }
      ]
    },
    {
      "cell_type": "markdown",
      "source": [
        "<a name=\"3.1.3\"></a>\n",
        "**3.1.3 Support Vector Machine**"
      ],
      "metadata": {
        "id": "p4EfPR7HPntp"
      }
    },
    {
      "cell_type": "code",
      "metadata": {
        "id": "B_zTd1RHMiyF",
        "colab": {
          "base_uri": "https://localhost:8080/"
        },
        "outputId": "f150fc55-cde7-41c0-86cd-2de12b2c64fc"
      },
      "source": [
        "from sklearn.svm import SVC\n",
        "\n",
        "SVMclf = SVC(probability=False,random_state=1, kernel='rbf')\n",
        "t0 = time.time()\n",
        "SVMclf.fit(X_trainT, y_train)\n",
        "print(\"\\n\\nTraining time:\", time.time()-t0)\n",
        "\n",
        "t0 = time.time()\n",
        "y_pred = SVMclf.predict(X_testT)\n",
        "print(\"Testing  time:\", time.time()-t0,\"\\n\\n\")\n",
        "\n",
        "#Model Evaluation\n",
        "print(\"Confusion Matrix:\\n\",confusion_matrix(y_test, y_pred),'\\n')\n",
        "print(classification_report(y_test,y_pred),'\\n')\n",
        "print(\"Testing accuracy --> \",accuracy_score(y_test, y_pred),'\\n')\n",
        "\n",
        "#saving model then reading it again\n",
        "pickle.dump(SVMclf, open('SVMclfModel.sav', 'wb'))\n",
        "SVMclf = pickle.load(open('SVMclfModel.sav', 'rb'))"
      ],
      "execution_count": 18,
      "outputs": [
        {
          "output_type": "stream",
          "name": "stdout",
          "text": [
            "\n",
            "\n",
            "Training time: 3.782618284225464\n",
            "Testing  time: 1.949458122253418 \n",
            "\n",
            "\n",
            "Confusion Matrix:\n",
            " [[1570   46]\n",
            " [  49 2807]] \n",
            "\n",
            "              precision    recall  f1-score   support\n",
            "\n",
            "           0       0.97      0.97      0.97      1616\n",
            "           1       0.98      0.98      0.98      2856\n",
            "\n",
            "    accuracy                           0.98      4472\n",
            "   macro avg       0.98      0.98      0.98      4472\n",
            "weighted avg       0.98      0.98      0.98      4472\n",
            " \n",
            "\n",
            "Testing accuracy -->  0.9787567084078712 \n",
            "\n"
          ]
        }
      ]
    },
    {
      "cell_type": "markdown",
      "source": [
        "<a name=\"3.1.4\"></a>\n",
        "**3.1.4 Random Forest Classifier**"
      ],
      "metadata": {
        "id": "qtUZW6V3Py2u"
      }
    },
    {
      "cell_type": "code",
      "metadata": {
        "id": "R4_R5evOMmcV",
        "colab": {
          "base_uri": "https://localhost:8080/"
        },
        "outputId": "309b09a7-af64-4d3e-8651-a7399a3bab9e"
      },
      "source": [
        "from sklearn.ensemble import RandomForestClassifier\n",
        "\n",
        "RFclf = RandomForestClassifier(max_depth = 39, bootstrap = True, n_estimators = 1000, criterion = 'gini', random_state = 1,n_jobs = -1, verbose = 1)\n",
        "t0 = time.time()\n",
        "RFclf.fit(X_trainT, y_train)\n",
        "print(\"\\n\\nTraining time:\", time.time()-t0)\n",
        "\n",
        "t0 = time.time()\n",
        "y_pred = RFclf.predict(X_testT)\n",
        "print(\"Testing  time:\", time.time()-t0,\"\\n\\n\")\n",
        "\n",
        "#Model Evaluation\n",
        "print(\"Confusion Matrix:\\n\",confusion_matrix(y_test, y_pred),'\\n')\n",
        "print(classification_report(y_test,y_pred),'\\n')\n",
        "print(\"Testing accuracy --> \",accuracy_score(y_test, y_pred),'\\n')\n",
        "\n",
        "#saving model then reading it again\n",
        "pickle.dump(RFclf, open('RFclfModel.sav', 'wb'))\n",
        "RFclf = pickle.load(open('RFclfModel.sav', 'rb'))"
      ],
      "execution_count": 19,
      "outputs": [
        {
          "output_type": "stream",
          "name": "stderr",
          "text": [
            "[Parallel(n_jobs=-1)]: Using backend ThreadingBackend with 2 concurrent workers.\n",
            "[Parallel(n_jobs=-1)]: Done  46 tasks      | elapsed:    0.7s\n",
            "[Parallel(n_jobs=-1)]: Done 196 tasks      | elapsed:    2.9s\n",
            "[Parallel(n_jobs=-1)]: Done 446 tasks      | elapsed:    7.9s\n",
            "[Parallel(n_jobs=-1)]: Done 796 tasks      | elapsed:   12.9s\n",
            "[Parallel(n_jobs=-1)]: Done 1000 out of 1000 | elapsed:   15.8s finished\n",
            "[Parallel(n_jobs=2)]: Using backend ThreadingBackend with 2 concurrent workers.\n",
            "[Parallel(n_jobs=2)]: Done  46 tasks      | elapsed:    0.0s\n",
            "[Parallel(n_jobs=2)]: Done 196 tasks      | elapsed:    0.2s\n"
          ]
        },
        {
          "output_type": "stream",
          "name": "stdout",
          "text": [
            "\n",
            "\n",
            "Training time: 16.106353044509888\n"
          ]
        },
        {
          "output_type": "stream",
          "name": "stderr",
          "text": [
            "[Parallel(n_jobs=2)]: Done 446 tasks      | elapsed:    0.4s\n",
            "[Parallel(n_jobs=2)]: Done 796 tasks      | elapsed:    0.9s\n",
            "[Parallel(n_jobs=2)]: Done 1000 out of 1000 | elapsed:    1.2s finished\n"
          ]
        },
        {
          "output_type": "stream",
          "name": "stdout",
          "text": [
            "Testing  time: 1.157278299331665 \n",
            "\n",
            "\n",
            "Confusion Matrix:\n",
            " [[1305  311]\n",
            " [  30 2826]] \n",
            "\n",
            "              precision    recall  f1-score   support\n",
            "\n",
            "           0       0.98      0.81      0.88      1616\n",
            "           1       0.90      0.99      0.94      2856\n",
            "\n",
            "    accuracy                           0.92      4472\n",
            "   macro avg       0.94      0.90      0.91      4472\n",
            "weighted avg       0.93      0.92      0.92      4472\n",
            " \n",
            "\n",
            "Testing accuracy -->  0.9237477638640429 \n",
            "\n"
          ]
        }
      ]
    },
    {
      "cell_type": "markdown",
      "source": [
        "<a name=\"3.1.5\"></a>\n",
        "**3.1.5 Extra Tree Classifier**"
      ],
      "metadata": {
        "id": "HWeeFF30P1UJ"
      }
    },
    {
      "cell_type": "code",
      "metadata": {
        "id": "hOqtmNx3MyDO",
        "colab": {
          "base_uri": "https://localhost:8080/"
        },
        "outputId": "6ed77e31-b30e-4975-f34a-c4a135f332e9"
      },
      "source": [
        "from sklearn.ensemble import ExtraTreesClassifier\n",
        "\n",
        "ETclf = ExtraTreesClassifier(max_depth = 39, bootstrap = True, n_estimators = 1000, criterion = 'gini', random_state = 1,n_jobs = -1, verbose = 1)\n",
        "t0 = time.time()\n",
        "ETclf.fit(X_trainT, y_train)\n",
        "print(\"\\n\\nTraining time:\", time.time()-t0)\n",
        "\n",
        "t0 = time.time()\n",
        "y_pred = ETclf.predict(X_testT)\n",
        "print(\"Testing  time:\", time.time()-t0,\"\\n\\n\")\n",
        "\n",
        "#Model Evaluation\n",
        "print(\"Confusion Matrix:\\n\",confusion_matrix(y_test, y_pred),'\\n')\n",
        "print(classification_report(y_test,y_pred),'\\n')\n",
        "print(\"Testing accuracy --> \",accuracy_score(y_test, y_pred),'\\n')\n",
        "\n",
        "#saving model then reading it again\n",
        "pickle.dump(ETclf, open('ETclfModel.sav', 'wb'))\n",
        "ETclf = pickle.load(open('ETclfModel.sav', 'rb'))"
      ],
      "execution_count": 20,
      "outputs": [
        {
          "output_type": "stream",
          "name": "stderr",
          "text": [
            "[Parallel(n_jobs=-1)]: Using backend ThreadingBackend with 2 concurrent workers.\n",
            "[Parallel(n_jobs=-1)]: Done  46 tasks      | elapsed:    1.1s\n",
            "[Parallel(n_jobs=-1)]: Done 196 tasks      | elapsed:    3.3s\n",
            "[Parallel(n_jobs=-1)]: Done 446 tasks      | elapsed:    6.6s\n",
            "[Parallel(n_jobs=-1)]: Done 796 tasks      | elapsed:   11.2s\n",
            "[Parallel(n_jobs=-1)]: Done 1000 out of 1000 | elapsed:   17.1s finished\n",
            "[Parallel(n_jobs=2)]: Using backend ThreadingBackend with 2 concurrent workers.\n",
            "[Parallel(n_jobs=2)]: Done  46 tasks      | elapsed:    0.1s\n"
          ]
        },
        {
          "output_type": "stream",
          "name": "stdout",
          "text": [
            "\n",
            "\n",
            "Training time: 17.63580060005188\n"
          ]
        },
        {
          "output_type": "stream",
          "name": "stderr",
          "text": [
            "[Parallel(n_jobs=2)]: Done 196 tasks      | elapsed:    0.4s\n",
            "[Parallel(n_jobs=2)]: Done 446 tasks      | elapsed:    0.6s\n",
            "[Parallel(n_jobs=2)]: Done 796 tasks      | elapsed:    1.0s\n",
            "[Parallel(n_jobs=2)]: Done 1000 out of 1000 | elapsed:    1.5s finished\n"
          ]
        },
        {
          "output_type": "stream",
          "name": "stdout",
          "text": [
            "Testing  time: 1.499636173248291 \n",
            "\n",
            "\n",
            "Confusion Matrix:\n",
            " [[1249  367]\n",
            " [  28 2828]] \n",
            "\n",
            "              precision    recall  f1-score   support\n",
            "\n",
            "           0       0.98      0.77      0.86      1616\n",
            "           1       0.89      0.99      0.93      2856\n",
            "\n",
            "    accuracy                           0.91      4472\n",
            "   macro avg       0.93      0.88      0.90      4472\n",
            "weighted avg       0.92      0.91      0.91      4472\n",
            " \n",
            "\n",
            "Testing accuracy -->  0.9116726296958855 \n",
            "\n"
          ]
        }
      ]
    },
    {
      "cell_type": "markdown",
      "source": [
        "<a name=\"3.1.6\"></a>\n",
        "**3.1.6 Gaussian Naive Bayes**"
      ],
      "metadata": {
        "id": "Kj-3-SkaQb2q"
      }
    },
    {
      "cell_type": "code",
      "metadata": {
        "id": "ALB-41OIMWyQ",
        "colab": {
          "base_uri": "https://localhost:8080/"
        },
        "outputId": "6bd66848-c732-4a9d-e721-28cbf90540a0"
      },
      "source": [
        "from sklearn.naive_bayes import GaussianNB\n",
        "\n",
        "GNBclf = GaussianNB()\n",
        "t0 = time.time()\n",
        "GNBclf.fit(X_trainT.toarray(), y_train)\n",
        "print(\"\\n\\nTraining time:\", time.time()-t0)\n",
        "\n",
        "t0 = time.time()\n",
        "y_pred = GNBclf.predict(X_testT.toarray())\n",
        "print(\"Testing  time:\", time.time()-t0,\"\\n\\n\")\n",
        "\n",
        "#Model Evaluation\n",
        "print(\"Confusion Matrix:\\n\",confusion_matrix(y_test, y_pred),'\\n')\n",
        "print(classification_report(y_test,y_pred),'\\n')\n",
        "print(\"Testing accuracy --> \",accuracy_score(y_test, y_pred),'\\n')\n",
        "\n",
        "#saving model then reading it again\n",
        "pickle.dump(GNBclf, open('GNBclfModel.sav', 'wb'))\n",
        "GNBclf = pickle.load(open('GNBclfModel.sav', 'rb'))"
      ],
      "execution_count": 21,
      "outputs": [
        {
          "output_type": "stream",
          "name": "stdout",
          "text": [
            "\n",
            "\n",
            "Training time: 2.5956387519836426\n",
            "Testing  time: 0.924663782119751 \n",
            "\n",
            "\n",
            "Confusion Matrix:\n",
            " [[1616    0]\n",
            " [ 591 2265]] \n",
            "\n",
            "              precision    recall  f1-score   support\n",
            "\n",
            "           0       0.73      1.00      0.85      1616\n",
            "           1       1.00      0.79      0.88      2856\n",
            "\n",
            "    accuracy                           0.87      4472\n",
            "   macro avg       0.87      0.90      0.87      4472\n",
            "weighted avg       0.90      0.87      0.87      4472\n",
            " \n",
            "\n",
            "Testing accuracy -->  0.8678443649373881 \n",
            "\n"
          ]
        }
      ]
    },
    {
      "cell_type": "markdown",
      "source": [
        "<a name=\"3.1.7\"></a>\n",
        "**3.1.7 Multinomial Naive Bayes**"
      ],
      "metadata": {
        "id": "o41L07gOQdxC"
      }
    },
    {
      "cell_type": "code",
      "metadata": {
        "id": "sIDQMAD6NkZe",
        "colab": {
          "base_uri": "https://localhost:8080/"
        },
        "outputId": "c9b10609-e29f-41a8-9df0-c67d1936d5a2"
      },
      "source": [
        "from sklearn.naive_bayes import MultinomialNB\n",
        "\n",
        "MNBclf = MultinomialNB(class_prior = [0.5, 0.5])\n",
        "t0 = time.time()\n",
        "MNBclf.fit(X_trainT, y_train)\n",
        "print(\"\\n\\nTraining time:\", time.time()-t0)\n",
        "\n",
        "t0 = time.time()\n",
        "y_pred = MNBclf.predict(X_testT)\n",
        "print(\"Testing  time:\", time.time()-t0,\"\\n\\n\")\n",
        "\n",
        "#Model Evaluation\n",
        "print(\"Confusion Matrix:\\n\",confusion_matrix(y_test, y_pred),'\\n')\n",
        "print(classification_report(y_test,y_pred),'\\n')\n",
        "print(\"Testing accuracy --> \",accuracy_score(y_test, y_pred),'\\n')\n",
        "\n",
        "#saving model then reading it again\n",
        "pickle.dump(MNBclf, open('MNBclfModel.sav', 'wb'))\n",
        "MNBclf = pickle.load(open('MNBclfModel.sav', 'rb'))"
      ],
      "execution_count": 22,
      "outputs": [
        {
          "output_type": "stream",
          "name": "stdout",
          "text": [
            "\n",
            "\n",
            "Training time: 0.007108211517333984\n",
            "Testing  time: 0.0028023719787597656 \n",
            "\n",
            "\n",
            "Confusion Matrix:\n",
            " [[1552   64]\n",
            " [ 124 2732]] \n",
            "\n",
            "              precision    recall  f1-score   support\n",
            "\n",
            "           0       0.93      0.96      0.94      1616\n",
            "           1       0.98      0.96      0.97      2856\n",
            "\n",
            "    accuracy                           0.96      4472\n",
            "   macro avg       0.95      0.96      0.95      4472\n",
            "weighted avg       0.96      0.96      0.96      4472\n",
            " \n",
            "\n",
            "Testing accuracy -->  0.9579606440071556 \n",
            "\n"
          ]
        }
      ]
    },
    {
      "cell_type": "markdown",
      "source": [
        "<a name=\"3.1.8\"></a>\n",
        "**3.1.8 Gradient Boosting**"
      ],
      "metadata": {
        "id": "OgJ0Ut8gSIC0"
      }
    },
    {
      "cell_type": "code",
      "metadata": {
        "id": "n7xQ_xQMNP1r",
        "colab": {
          "base_uri": "https://localhost:8080/"
        },
        "outputId": "d998d6be-d79a-4de4-9116-68f04a840890"
      },
      "source": [
        "from sklearn.ensemble import GradientBoostingClassifier\n",
        "\n",
        "GBclf = GradientBoostingClassifier(n_estimators=5000, learning_rate=0.2,max_depth=5, random_state=37, verbose = 1)\n",
        "t0 = time.time()\n",
        "GBclf.fit(X_trainT, y_train)\n",
        "print(\"\\n\\nTraining time:\", time.time()-t0)\n",
        "\n",
        "t0 = time.time()\n",
        "y_pred = GBclf.predict(X_testT)\n",
        "print(\"Testing  time:\", time.time()-t0,\"\\n\\n\")\n",
        "\n",
        "#Model Evaluation\n",
        "print(\"Confusion Matrix:\\n\",confusion_matrix(y_test, y_pred),'\\n')\n",
        "print(classification_report(y_test,y_pred),'\\n')\n",
        "print(\"Testing accuracy --> \",accuracy_score(y_test, y_pred),'\\n')\n",
        "\n",
        "#saving model then reading it again\n",
        "pickle.dump(GBclf, open('GBclfModel.sav', 'wb'))\n",
        "GBclf = pickle.load(open('GBclfModel.sav', 'rb'))"
      ],
      "execution_count": 23,
      "outputs": [
        {
          "output_type": "stream",
          "name": "stdout",
          "text": [
            "      Iter       Train Loss   Remaining Time \n",
            "         1           1.1470            3.21m\n",
            "         2           1.0427            2.67m\n",
            "         3           0.9663            2.52m\n",
            "         4           0.9151            2.51m\n",
            "         5           0.8701            2.45m\n",
            "         6           0.8359            2.46m\n",
            "         7           0.8004            2.46m\n",
            "         8           0.7780            2.40m\n",
            "         9           0.7477            2.39m\n",
            "        10           0.7252            2.35m\n",
            "        20           0.6153            2.14m\n",
            "        30           0.5479            2.07m\n",
            "        40           0.5021            2.00m\n",
            "        50           0.4607            1.96m\n",
            "        60           0.4272            1.94m\n",
            "        70           0.4045            1.91m\n",
            "        80           0.3836            1.89m\n",
            "        90           0.3652            1.88m\n",
            "       100           0.3468            1.87m\n",
            "       200           0.2435            2.20m\n",
            "       300           0.1941            1.99m\n",
            "       400           0.1629            1.95m\n",
            "       500           0.1431            1.94m\n",
            "       600           0.1300            1.84m\n",
            "       700           0.1205            1.86m\n",
            "       800           0.1138            1.79m\n",
            "       900           0.1092            1.72m\n",
            "      1000           0.1058            1.65m\n",
            "      2000           0.0952            1.47m\n",
            "      3000           0.0936            1.10m\n",
            "      4000           0.0930           32.00s\n",
            "      5000           0.0927            0.00s\n",
            "\n",
            "\n",
            "Training time: 151.8895239830017\n",
            "Testing  time: 1.0498270988464355 \n",
            "\n",
            "\n",
            "Confusion Matrix:\n",
            " [[1590   26]\n",
            " [  61 2795]] \n",
            "\n",
            "              precision    recall  f1-score   support\n",
            "\n",
            "           0       0.96      0.98      0.97      1616\n",
            "           1       0.99      0.98      0.98      2856\n",
            "\n",
            "    accuracy                           0.98      4472\n",
            "   macro avg       0.98      0.98      0.98      4472\n",
            "weighted avg       0.98      0.98      0.98      4472\n",
            " \n",
            "\n",
            "Testing accuracy -->  0.9805456171735242 \n",
            "\n"
          ]
        }
      ]
    },
    {
      "cell_type": "markdown",
      "source": [
        "<a name=\"3.1.9\"></a>\n",
        "**3.1.9 XG-boost Classifier**"
      ],
      "metadata": {
        "id": "PEcsLo4ySKLU"
      }
    },
    {
      "cell_type": "code",
      "metadata": {
        "id": "LOFMCOCRNDQI",
        "colab": {
          "base_uri": "https://localhost:8080/"
        },
        "outputId": "4ec33230-a1bb-4919-8fed-568a4bc717ae"
      },
      "source": [
        "from xgboost import XGBClassifier\n",
        "\n",
        "XGBclf = XGBClassifier(max_depth = 15, n_estimators = 2000, n_jobs = -1,random_state=37, verbosity=1)\n",
        "t0 = time.time()\n",
        "XGBclf.fit(X_trainT, y_train)\n",
        "print(\"\\n\\nTraining time:\", time.time()-t0)\n",
        "\n",
        "t0 = time.time()\n",
        "y_pred = XGBclf.predict(X_testT)\n",
        "print(\"Testing  time:\", time.time()-t0,\"\\n\\n\")\n",
        "\n",
        "#Model Evaluation\n",
        "print(\"Confusion Matrix:\\n\",confusion_matrix(y_test, y_pred),'\\n')\n",
        "print(classification_report(y_test,y_pred),'\\n')\n",
        "print(\"Testing accuracy --> \",accuracy_score(y_test, y_pred),'\\n')\n",
        "\n",
        "#saving model then reading it again\n",
        "pickle.dump(XGBclf, open('XGBclfModel.sav', 'wb'))\n",
        "XGBclf = pickle.load(open('XGBclfModel.sav', 'rb'))"
      ],
      "execution_count": 24,
      "outputs": [
        {
          "output_type": "stream",
          "name": "stdout",
          "text": [
            "\n",
            "\n",
            "Training time: 179.21528029441833\n",
            "Testing  time: 1.3950440883636475 \n",
            "\n",
            "\n",
            "Confusion Matrix:\n",
            " [[1588   28]\n",
            " [  76 2780]] \n",
            "\n",
            "              precision    recall  f1-score   support\n",
            "\n",
            "           0       0.95      0.98      0.97      1616\n",
            "           1       0.99      0.97      0.98      2856\n",
            "\n",
            "    accuracy                           0.98      4472\n",
            "   macro avg       0.97      0.98      0.97      4472\n",
            "weighted avg       0.98      0.98      0.98      4472\n",
            " \n",
            "\n",
            "Testing accuracy -->  0.9767441860465116 \n",
            "\n"
          ]
        }
      ]
    },
    {
      "cell_type": "markdown",
      "source": [
        "<a name=\"3.1.10\"></a>\n",
        "**3.1.10 Ada-boost Classifier**"
      ],
      "metadata": {
        "id": "uPgaUWIkSN31"
      }
    },
    {
      "cell_type": "code",
      "metadata": {
        "id": "mHyonEFYNLMH",
        "colab": {
          "base_uri": "https://localhost:8080/"
        },
        "outputId": "f5037015-67d8-40f0-e3e3-3ee5edaffa35"
      },
      "source": [
        "from sklearn.ensemble import AdaBoostClassifier\n",
        "\n",
        "ADBclf = AdaBoostClassifier(n_estimators=10000, random_state=37, learning_rate = 0.1, algorithm='SAMME')\n",
        "t0 = time.time()\n",
        "ADBclf.fit(X_trainT, y_train)\n",
        "print(\"\\n\\nTraining time:\", time.time()-t0)\n",
        "\n",
        "t0 = time.time()\n",
        "y_pred = ADBclf.predict(X_testT)\n",
        "print(\"Testing  time:\", time.time()-t0,\"\\n\\n\")\n",
        "\n",
        "#Model Evaluation\n",
        "print(\"Confusion Matrix:\\n\",confusion_matrix(y_test, y_pred),'\\n')\n",
        "print(classification_report(y_test,y_pred),'\\n')\n",
        "print(\"Testing accuracy --> \",accuracy_score(y_test, y_pred),'\\n')\n",
        "\n",
        "#saving model then reading it again\n",
        "pickle.dump(ADBclf, open('ADBclfModel.sav', 'wb'))\n",
        "ADBclf = pickle.load(open('ADBclfModel.sav', 'rb'))"
      ],
      "execution_count": 25,
      "outputs": [
        {
          "output_type": "stream",
          "name": "stdout",
          "text": [
            "\n",
            "\n",
            "Training time: 102.78447222709656\n",
            "Testing  time: 7.161332845687866 \n",
            "\n",
            "\n",
            "Confusion Matrix:\n",
            " [[1132  484]\n",
            " [  76 2780]] \n",
            "\n",
            "              precision    recall  f1-score   support\n",
            "\n",
            "           0       0.94      0.70      0.80      1616\n",
            "           1       0.85      0.97      0.91      2856\n",
            "\n",
            "    accuracy                           0.87      4472\n",
            "   macro avg       0.89      0.84      0.86      4472\n",
            "weighted avg       0.88      0.87      0.87      4472\n",
            " \n",
            "\n",
            "Testing accuracy -->  0.8747763864042933 \n",
            "\n"
          ]
        }
      ]
    },
    {
      "cell_type": "markdown",
      "source": [
        "<a name=\"3.1.11\"></a>\n",
        "**3.1.11 MLPClassifier**"
      ],
      "metadata": {
        "id": "GKnOUTQeSaWt"
      }
    },
    {
      "cell_type": "code",
      "metadata": {
        "id": "slKiM5rZMt2b",
        "colab": {
          "base_uri": "https://localhost:8080/"
        },
        "outputId": "fcb73492-0042-4540-ded9-420410f07b4c"
      },
      "source": [
        "from sklearn.neural_network import MLPClassifier\n",
        "\n",
        "MLPclf = MLPClassifier(batch_size = 512, early_stopping=True, hidden_layer_sizes=(256,128,64,32,16), random_state=37 ,max_iter=450, learning_rate_init=0.01, tol=0.0000001,n_iter_no_change = 20) #verbose = True\n",
        "t0 = time.time()\n",
        "MLPclf.fit(X_trainT, y_train)\n",
        "print(\"\\n\\nTraining time:\", time.time()-t0)\n",
        "\n",
        "t0 = time.time()\n",
        "y_pred = MLPclf.predict(X_testT)\n",
        "print(\"Testing  time:\", time.time()-t0,\"\\n\\n\")\n",
        "\n",
        "#Model Evaluation\n",
        "print(\"Confusion Matrix:\\n\",confusion_matrix(y_test, y_pred),'\\n')\n",
        "print(classification_report(y_test,y_pred),'\\n')\n",
        "print(\"Testing accuracy --> \",accuracy_score(y_test, y_pred),'\\n')\n",
        "\n",
        "#saving model then reading it again\n",
        "pickle.dump(MLPclf, open('bestMLPModel.sav', 'wb'))\n",
        "MLPclf = pickle.load(open('bestMLPModel.sav', 'rb'))"
      ],
      "execution_count": 26,
      "outputs": [
        {
          "output_type": "stream",
          "name": "stdout",
          "text": [
            "\n",
            "\n",
            "Training time: 64.0564591884613\n",
            "Testing  time: 0.05327916145324707 \n",
            "\n",
            "\n",
            "Confusion Matrix:\n",
            " [[1585   31]\n",
            " [  67 2789]] \n",
            "\n",
            "              precision    recall  f1-score   support\n",
            "\n",
            "           0       0.96      0.98      0.97      1616\n",
            "           1       0.99      0.98      0.98      2856\n",
            "\n",
            "    accuracy                           0.98      4472\n",
            "   macro avg       0.97      0.98      0.98      4472\n",
            "weighted avg       0.98      0.98      0.98      4472\n",
            " \n",
            "\n",
            "Testing accuracy -->  0.9780858676207513 \n",
            "\n"
          ]
        }
      ]
    },
    {
      "cell_type": "markdown",
      "source": [
        "<a name=\"3.1.12\"></a>\n",
        "**3.1.12 VotingClassifier**"
      ],
      "metadata": {
        "id": "MKQUZapxSTpO"
      }
    },
    {
      "cell_type": "code",
      "metadata": {
        "id": "CmhaBFBVLvDi",
        "colab": {
          "base_uri": "https://localhost:8080/"
        },
        "outputId": "282db702-d2da-4fa4-abcd-7bf834428d80"
      },
      "source": [
        "# 1\n",
        "from sklearn.linear_model import LogisticRegression\n",
        "LOGclf = LogisticRegression(random_state=0, n_jobs = -1, max_iter = 200, verbose= 1)\n",
        "\n",
        "# 2\n",
        "from sklearn.neighbors import KNeighborsClassifier\n",
        "KNNclf = KNeighborsClassifier(n_neighbors = 5, metric = 'minkowski',n_jobs = -1)\n",
        "\n",
        "# 3\n",
        "from sklearn.svm import SVC\n",
        "SVMclf = SVC(probability=False,random_state=1, kernel='rbf')\n",
        "\n",
        "# 4\n",
        "from sklearn.ensemble import RandomForestClassifier \n",
        "RFclf = RandomForestClassifier(max_depth = 39, bootstrap = True, n_estimators = 1000, criterion = 'gini', random_state = 1,n_jobs = -1, verbose = 1)\n",
        "\n",
        "# 5\n",
        "from sklearn.ensemble import ExtraTreesClassifier\n",
        "ETclf = ExtraTreesClassifier(max_depth = 39, bootstrap = True, n_estimators = 1000, criterion = 'gini', random_state = 1,n_jobs = -1, verbose = 1)\n",
        "#ETclf = ExtraTreesClassifier(max_depth = 39, bootstrap = True, n_estimators = 500, criterion = 'gini', n_jobs = -1,max_samples=0.8,max_features=6,random_state=37)\n",
        "\n",
        "# 6\n",
        "from sklearn.naive_bayes import MultinomialNB\n",
        "MNBclf = MultinomialNB()\n",
        "\n",
        "# 7\n",
        "from sklearn.ensemble import GradientBoostingClassifier\n",
        "GBclf = GradientBoostingClassifier(n_estimators=5000, learning_rate=0.2,max_depth=5, random_state=37, verbose = 1)\n",
        "\n",
        "# 8\n",
        "from xgboost import XGBClassifier\n",
        "XGBclf = XGBClassifier(max_depth = 15, n_estimators = 10000, n_jobs = -1,random_state=37, verbosity=1)\n",
        "\n",
        "# 9\n",
        "from sklearn.ensemble import AdaBoostClassifier\n",
        "ADBclf = AdaBoostClassifier(n_estimators=30000, random_state=37, learning_rate = 0.1, algorithm='SAMME')\n",
        "\n",
        "# 10\n",
        "from sklearn.neural_network import MLPClassifier\n",
        "MLPclf = MLPClassifier(batch_size = 512, early_stopping=True, hidden_layer_sizes=(256,128,64,32,16), random_state=37 ,max_iter=450, learning_rate_init=0.01, tol=0.0000001,n_iter_no_change = 20) #verbose = True\n",
        "\n",
        "\n",
        "\n",
        "from sklearn.ensemble import VotingClassifier\n",
        "\n",
        "countVecclf = VotingClassifier(estimators=[('RFclf', RFclf),('ETclf', ETclf),('MLPclf', MLPclf),('LOGclf', LOGclf),('SVMclf', SVMclf), ('XGBclf', XGBclf),  ('ADBclf', ADBclf),('GBclf', GBclf),('MNBclf',MNBclf),('KNNclf',KNNclf)], voting='hard', weights=[1,1,2,2,2,2,1,2,2,1], flatten_transform=True)\n",
        "t0 = time.time()\n",
        "countVecclf.fit(X_trainT, y_train)\n",
        "print(\"\\n\\nTraining time:\", time.time()-t0)\n",
        "\n",
        "t0 = time.time()\n",
        "y_pred_countVec = countVecclf.predict(X_testT)\n",
        "print(\"\\n\\nTesting  time:\", time.time()-t0)\n",
        "\n",
        "#Model Evaluation\n",
        "print(\"Confusion Matrix:\\n\",confusion_matrix(y_test, y_pred),'\\n')\n",
        "print(classification_report(y_test,y_pred),'\\n')\n",
        "print(\"Testing accuracy --> \",accuracy_score(y_test, y_pred),'\\n')"
      ],
      "execution_count": 27,
      "outputs": [
        {
          "output_type": "stream",
          "name": "stderr",
          "text": [
            "[Parallel(n_jobs=-1)]: Using backend LokyBackend with 2 concurrent workers.\n",
            "[Parallel(n_jobs=-1)]: Done 202 tasks      | elapsed:    4.1s\n",
            "[Parallel(n_jobs=-1)]: Done 1000 out of 1000 | elapsed:   17.4s finished\n",
            "[Parallel(n_jobs=-1)]: Using backend LokyBackend with 2 concurrent workers.\n",
            "[Parallel(n_jobs=-1)]: Done 300 tasks      | elapsed:    5.0s\n",
            "[Parallel(n_jobs=-1)]: Done 1000 out of 1000 | elapsed:   15.0s finished\n",
            "[Parallel(n_jobs=-1)]: Using backend LokyBackend with 2 concurrent workers.\n",
            "[Parallel(n_jobs=-1)]: Done   1 out of   1 | elapsed:    0.3s finished\n"
          ]
        },
        {
          "output_type": "stream",
          "name": "stdout",
          "text": [
            "      Iter       Train Loss   Remaining Time \n",
            "         1           1.1470            2.31m\n",
            "         2           1.0427            2.19m\n",
            "         3           0.9663            2.20m\n",
            "         4           0.9151            2.17m\n",
            "         5           0.8701            2.19m\n",
            "         6           0.8359            2.17m\n",
            "         7           0.8004            2.17m\n",
            "         8           0.7780            2.17m\n",
            "         9           0.7477            2.19m\n",
            "        10           0.7252            2.18m\n",
            "        20           0.6153            2.07m\n",
            "        30           0.5479            2.03m\n",
            "        40           0.5021            2.02m\n",
            "        50           0.4607            1.98m\n",
            "        60           0.4272            1.97m\n",
            "        70           0.4045            1.93m\n",
            "        80           0.3836            1.92m\n",
            "        90           0.3652            1.90m\n",
            "       100           0.3468            1.88m\n",
            "       200           0.2435            1.77m\n",
            "       300           0.1941            1.71m\n",
            "       400           0.1629            1.66m\n",
            "       500           0.1431            1.77m\n",
            "       600           0.1300            1.70m\n",
            "       700           0.1205            1.65m\n",
            "       800           0.1138            1.60m\n",
            "       900           0.1092            1.55m\n",
            "      1000           0.1058            1.53m\n",
            "      2000           0.0952            1.15m\n",
            "      3000           0.0936           46.57s\n",
            "      4000           0.0930           23.43s\n",
            "      5000           0.0927            0.00s\n",
            "\n",
            "\n",
            "Training time: 1371.3619935512543\n"
          ]
        },
        {
          "output_type": "stream",
          "name": "stderr",
          "text": [
            "[Parallel(n_jobs=2)]: Using backend ThreadingBackend with 2 concurrent workers.\n",
            "[Parallel(n_jobs=2)]: Done  46 tasks      | elapsed:    0.0s\n",
            "[Parallel(n_jobs=2)]: Done 196 tasks      | elapsed:    0.1s\n",
            "[Parallel(n_jobs=2)]: Done 446 tasks      | elapsed:    0.3s\n",
            "[Parallel(n_jobs=2)]: Done 796 tasks      | elapsed:    0.6s\n",
            "[Parallel(n_jobs=2)]: Done 1000 out of 1000 | elapsed:    0.8s finished\n",
            "[Parallel(n_jobs=2)]: Using backend ThreadingBackend with 2 concurrent workers.\n",
            "[Parallel(n_jobs=2)]: Done  46 tasks      | elapsed:    0.0s\n",
            "[Parallel(n_jobs=2)]: Done 196 tasks      | elapsed:    0.2s\n",
            "[Parallel(n_jobs=2)]: Done 446 tasks      | elapsed:    0.3s\n",
            "[Parallel(n_jobs=2)]: Done 796 tasks      | elapsed:    0.6s\n",
            "[Parallel(n_jobs=2)]: Done 1000 out of 1000 | elapsed:    0.8s finished\n"
          ]
        },
        {
          "output_type": "stream",
          "name": "stdout",
          "text": [
            "\n",
            "\n",
            "Testing  time: 37.832536697387695\n",
            "Confusion Matrix:\n",
            " [[1585   31]\n",
            " [  67 2789]] \n",
            "\n",
            "              precision    recall  f1-score   support\n",
            "\n",
            "           0       0.96      0.98      0.97      1616\n",
            "           1       0.99      0.98      0.98      2856\n",
            "\n",
            "    accuracy                           0.98      4472\n",
            "   macro avg       0.97      0.98      0.98      4472\n",
            "weighted avg       0.98      0.98      0.98      4472\n",
            " \n",
            "\n",
            "Testing accuracy -->  0.9780858676207513 \n",
            "\n"
          ]
        }
      ]
    },
    {
      "cell_type": "code",
      "metadata": {
        "id": "mU5wBb7R8SxQ",
        "colab": {
          "base_uri": "https://localhost:8080/"
        },
        "outputId": "e9401557-7c0d-4e46-f978-d62b8d4a1682"
      },
      "source": [
        "countVecclf.fit(X_T, y)\n",
        "\n",
        "#saving model then reading it again\n",
        "pickle.dump(countVecclf, open('finalBestModel.sav', 'wb'))\n",
        "countVecclf = pickle.load(open('finalBestModel.sav', 'rb'))"
      ],
      "execution_count": 28,
      "outputs": [
        {
          "output_type": "stream",
          "name": "stderr",
          "text": [
            "[Parallel(n_jobs=-1)]: Using backend LokyBackend with 2 concurrent workers.\n",
            "[Parallel(n_jobs=-1)]: Done 122 tasks      | elapsed:    3.7s\n",
            "[Parallel(n_jobs=-1)]: Done 722 tasks      | elapsed:   20.7s\n",
            "[Parallel(n_jobs=-1)]: Done 1000 out of 1000 | elapsed:   28.3s finished\n",
            "[Parallel(n_jobs=-1)]: Using backend LokyBackend with 2 concurrent workers.\n",
            "[Parallel(n_jobs=-1)]: Done 164 tasks      | elapsed:    3.2s\n",
            "[Parallel(n_jobs=-1)]: Done 764 tasks      | elapsed:   16.5s\n",
            "[Parallel(n_jobs=-1)]: Done 1000 out of 1000 | elapsed:   21.7s finished\n",
            "[Parallel(n_jobs=-1)]: Using backend LokyBackend with 2 concurrent workers.\n",
            "[Parallel(n_jobs=-1)]: Done   1 out of   1 | elapsed:    0.4s finished\n"
          ]
        },
        {
          "output_type": "stream",
          "name": "stdout",
          "text": [
            "      Iter       Train Loss   Remaining Time \n",
            "         1           1.1473            2.98m\n",
            "         2           1.0429            2.91m\n",
            "         3           0.9674            2.88m\n",
            "         4           0.9163            2.86m\n",
            "         5           0.8702            2.87m\n",
            "         6           0.8363            2.89m\n",
            "         7           0.8019            2.89m\n",
            "         8           0.7658            2.90m\n",
            "         9           0.7483            2.89m\n",
            "        10           0.7290            2.89m\n",
            "        20           0.6243            2.74m\n",
            "        30           0.5525            2.67m\n",
            "        40           0.5055            2.64m\n",
            "        50           0.4663            2.59m\n",
            "        60           0.4348            2.54m\n",
            "        70           0.4070            2.53m\n",
            "        80           0.3819            2.51m\n",
            "        90           0.3659            2.48m\n",
            "       100           0.3450            2.49m\n",
            "       200           0.2473            2.73m\n",
            "       300           0.1958            2.55m\n",
            "       400           0.1650            2.42m\n",
            "       500           0.1453            2.31m\n",
            "       600           0.1319            2.32m\n",
            "       700           0.1225            2.27m\n",
            "       800           0.1161            2.19m\n",
            "       900           0.1115            2.12m\n",
            "      1000           0.1081            2.09m\n",
            "      2000           0.0972            1.55m\n",
            "      3000           0.0954            1.05m\n",
            "      4000           0.0948           31.49s\n",
            "      5000           0.0945            0.00s\n"
          ]
        }
      ]
    },
    {
      "cell_type": "markdown",
      "metadata": {
        "id": "xvT9Jma18Udk"
      },
      "source": [
        "<a name=\"3.2\"></a>\n",
        "### 3.2 TF-IDF Vectorizer\n",
        "\n",
        "**TF-IDF vectorizer** is a statistical measure that evaluates how relevant a word is to a document in a collection of documents."
      ]
    },
    {
      "cell_type": "code",
      "metadata": {
        "id": "On6Sv1u_8Udl",
        "colab": {
          "base_uri": "https://localhost:8080/"
        },
        "outputId": "ffe6bcdc-8320-4b08-fb52-8543e5a575ac"
      },
      "source": [
        "from sklearn.feature_extraction.text import TfidfVectorizer\n",
        "\n",
        "vectorizer = TfidfVectorizer(tokenizer = preprocessing)\n",
        "X_trainT = vectorizer.fit_transform(X_train)\n",
        "features = vectorizer.get_feature_names()\n",
        "print(\"No of features after vectorizing X_train:\", len(features))\n",
        "X_testT  = vectorizer.transform(X_test)\n",
        "print(\"shape of X_trainT:\", X_trainT.shape)\n",
        "X_T = vectorizer.fit_transform(X)"
      ],
      "execution_count": 29,
      "outputs": [
        {
          "output_type": "stream",
          "name": "stderr",
          "text": [
            "/usr/local/lib/python3.8/dist-packages/sklearn/utils/deprecation.py:87: FutureWarning: Function get_feature_names is deprecated; get_feature_names is deprecated in 1.0 and will be removed in 1.2. Please use get_feature_names_out instead.\n",
            "  warnings.warn(msg, category=FutureWarning)\n"
          ]
        },
        {
          "output_type": "stream",
          "name": "stdout",
          "text": [
            "No of features after vectorizing X_train: 10685\n",
            "shape of X_trainT: (9077, 10685)\n"
          ]
        }
      ]
    },
    {
      "cell_type": "markdown",
      "source": [
        "<a name=\"3.2.1\"></a>\n",
        "**3.2.1 Logistic Regression**"
      ],
      "metadata": {
        "id": "2AV4CFhXV3Yi"
      }
    },
    {
      "cell_type": "code",
      "metadata": {
        "id": "lOui1Ii98Udm",
        "colab": {
          "base_uri": "https://localhost:8080/"
        },
        "outputId": "5bbfa393-210f-494a-9393-390c711f0a8b"
      },
      "source": [
        "from sklearn.linear_model import LogisticRegression\n",
        "from sklearn.metrics import accuracy_score\n",
        "from sklearn.metrics import confusion_matrix\n",
        "from sklearn.metrics import classification_report\n",
        "\n",
        "y_train = y_train.astype('i')\n",
        "y_test = y_test.astype('i')\n",
        "\n",
        "LOGclf = LogisticRegression(random_state=0, n_jobs = -1, max_iter = 1000, verbose= 1)\n",
        "t0 = time.time()\n",
        "LOGclf.fit(X_trainT, y_train)\n",
        "print(\"\\n\\nTraining time:\", time.time()-t0)\n",
        "\n",
        "t0 = time.time()\n",
        "y_pred = LOGclf.predict(X_testT)\n",
        "print(\"Testing  time:\", time.time()-t0,\"\\n\\n\")\n",
        "\n",
        "#Model Evaluation\n",
        "print(\"Confusion Matrix:\\n\",confusion_matrix(y_test, y_pred),'\\n')\n",
        "print(classification_report(y_test,y_pred),'\\n')\n",
        "print(\"Testing accuracy --> \",accuracy_score(y_test, y_pred),'\\n')\n",
        "\n",
        "#saving model then reading it again\n",
        "pickle.dump(LOGclf, open('tfIDFLOGclfModel.sav', 'wb'))\n",
        "LOGclf = pickle.load(open('tfIDFLOGclfModel.sav', 'rb'))"
      ],
      "execution_count": 30,
      "outputs": [
        {
          "output_type": "stream",
          "name": "stderr",
          "text": [
            "[Parallel(n_jobs=-1)]: Using backend LokyBackend with 2 concurrent workers.\n"
          ]
        },
        {
          "output_type": "stream",
          "name": "stdout",
          "text": [
            "\n",
            "\n",
            "Training time: 0.9314122200012207\n",
            "Testing  time: 0.00857686996459961 \n",
            "\n",
            "\n",
            "Confusion Matrix:\n",
            " [[1488  128]\n",
            " [  66 2790]] \n",
            "\n",
            "              precision    recall  f1-score   support\n",
            "\n",
            "           0       0.96      0.92      0.94      1616\n",
            "           1       0.96      0.98      0.97      2856\n",
            "\n",
            "    accuracy                           0.96      4472\n",
            "   macro avg       0.96      0.95      0.95      4472\n",
            "weighted avg       0.96      0.96      0.96      4472\n",
            " \n",
            "\n",
            "Testing accuracy -->  0.9566189624329159 \n",
            "\n"
          ]
        },
        {
          "output_type": "stream",
          "name": "stderr",
          "text": [
            "[Parallel(n_jobs=-1)]: Done   1 out of   1 | elapsed:    0.9s finished\n"
          ]
        }
      ]
    },
    {
      "cell_type": "markdown",
      "source": [
        "<a name=\"3.2.2\"></a>\n",
        "**3.2.2 K-nearest Neighbors**"
      ],
      "metadata": {
        "id": "2Vbi7HeYWGiK"
      }
    },
    {
      "cell_type": "code",
      "metadata": {
        "id": "S7Cu0-5w8Udm",
        "colab": {
          "base_uri": "https://localhost:8080/"
        },
        "outputId": "5e1bd3f3-ce49-4894-88f9-f479804cfa89"
      },
      "source": [
        "from sklearn.neighbors import KNeighborsClassifier\n",
        "\n",
        "KNNclf = KNeighborsClassifier(n_neighbors = 5, metric = 'minkowski',n_jobs = -1)\n",
        "t0 = time.time()\n",
        "KNNclf.fit(X_trainT, y_train)\n",
        "print(\"\\n\\nTraining time:\", time.time()-t0)\n",
        "\n",
        "t0 = time.time()\n",
        "y_pred = KNNclf.predict(X_testT)\n",
        "print(\"Testing  time:\", time.time()-t0,\"\\n\\n\")\n",
        "\n",
        "#Model Evaluation\n",
        "print(\"Confusion Matrix:\\n\",confusion_matrix(y_test, y_pred),'\\n')\n",
        "print(classification_report(y_test,y_pred),'\\n')\n",
        "print(\"Testing accuracy --> \",accuracy_score(y_test, y_pred),'\\n')\n",
        "\n",
        "#saving model then reading it again\n",
        "pickle.dump(KNNclf, open('tfIDFKNNclfModel.sav', 'wb'))\n",
        "KNNclf = pickle.load(open('tfIDFKNNclfModel.sav', 'rb'))"
      ],
      "execution_count": 31,
      "outputs": [
        {
          "output_type": "stream",
          "name": "stdout",
          "text": [
            "\n",
            "\n",
            "Training time: 0.0026433467864990234\n",
            "Testing  time: 3.955683469772339 \n",
            "\n",
            "\n",
            "Confusion Matrix:\n",
            " [[1553   63]\n",
            " [ 161 2695]] \n",
            "\n",
            "              precision    recall  f1-score   support\n",
            "\n",
            "           0       0.91      0.96      0.93      1616\n",
            "           1       0.98      0.94      0.96      2856\n",
            "\n",
            "    accuracy                           0.95      4472\n",
            "   macro avg       0.94      0.95      0.95      4472\n",
            "weighted avg       0.95      0.95      0.95      4472\n",
            " \n",
            "\n",
            "Testing accuracy -->  0.9499105545617174 \n",
            "\n"
          ]
        }
      ]
    },
    {
      "cell_type": "markdown",
      "source": [
        "<a name=\"3.2.3\"></a>\n",
        "**3.2.3 Support Vector Machine**"
      ],
      "metadata": {
        "id": "BOLMWhcDWI9N"
      }
    },
    {
      "cell_type": "code",
      "metadata": {
        "id": "jgKbRJ1W8Udp",
        "colab": {
          "base_uri": "https://localhost:8080/"
        },
        "outputId": "9ec0c8ca-997d-42da-e269-8bce1922a0cf"
      },
      "source": [
        "from sklearn.svm import SVC\n",
        "\n",
        "SVMclf = SVC(probability=False,random_state=1, kernel='rbf')\n",
        "t0 = time.time()\n",
        "SVMclf.fit(X_trainT, y_train)\n",
        "print(\"\\n\\nTraining time:\", time.time()-t0)\n",
        "\n",
        "t0 = time.time()\n",
        "y_pred = SVMclf.predict(X_testT)\n",
        "print(\"Testing  time:\", time.time()-t0,\"\\n\\n\")\n",
        "\n",
        "#Model Evaluation\n",
        "print(\"Confusion Matrix:\\n\",confusion_matrix(y_test, y_pred),'\\n')\n",
        "print(classification_report(y_test,y_pred),'\\n')\n",
        "print(\"Testing accuracy --> \",accuracy_score(y_test, y_pred),'\\n')\n",
        "\n",
        "#saving model then reading it again\n",
        "pickle.dump(SVMclf, open('tfIDFSVMclfModel.sav', 'wb'))\n",
        "SVMclf = pickle.load(open('tfIDFSVMclfModel.sav', 'rb'))"
      ],
      "execution_count": 32,
      "outputs": [
        {
          "output_type": "stream",
          "name": "stdout",
          "text": [
            "\n",
            "\n",
            "Training time: 5.4292120933532715\n",
            "Testing  time: 3.118253469467163 \n",
            "\n",
            "\n",
            "Confusion Matrix:\n",
            " [[1578   38]\n",
            " [  50 2806]] \n",
            "\n",
            "              precision    recall  f1-score   support\n",
            "\n",
            "           0       0.97      0.98      0.97      1616\n",
            "           1       0.99      0.98      0.98      2856\n",
            "\n",
            "    accuracy                           0.98      4472\n",
            "   macro avg       0.98      0.98      0.98      4472\n",
            "weighted avg       0.98      0.98      0.98      4472\n",
            " \n",
            "\n",
            "Testing accuracy -->  0.9803220035778175 \n",
            "\n"
          ]
        }
      ]
    },
    {
      "cell_type": "markdown",
      "source": [
        "<a name=\"3.2.4\"></a>\n",
        "**3.2.4 Random Forest Classifier**"
      ],
      "metadata": {
        "id": "8qXOvceyZJRL"
      }
    },
    {
      "cell_type": "code",
      "metadata": {
        "id": "inBwLo3H8Udq",
        "colab": {
          "base_uri": "https://localhost:8080/"
        },
        "outputId": "d0bd8039-a5c9-4a4a-f335-6070e1554c5f"
      },
      "source": [
        "from sklearn.ensemble import RandomForestClassifier\n",
        "\n",
        "RFclf = RandomForestClassifier(max_depth = 39, bootstrap = True, n_estimators = 1000, criterion = 'gini', random_state = 1,n_jobs = -1, verbose = 1)\n",
        "t0 = time.time()\n",
        "RFclf.fit(X_trainT, y_train)\n",
        "print(\"\\n\\nTraining time:\", time.time()-t0)\n",
        "\n",
        "t0 = time.time()\n",
        "y_pred = RFclf.predict(X_testT)\n",
        "print(\"Testing  time:\", time.time()-t0,\"\\n\\n\")\n",
        "\n",
        "#Model Evaluation\n",
        "print(\"Confusion Matrix:\\n\",confusion_matrix(y_test, y_pred),'\\n')\n",
        "print(classification_report(y_test,y_pred),'\\n')\n",
        "print(\"Testing accuracy --> \",accuracy_score(y_test, y_pred),'\\n')\n",
        "\n",
        "#saving model then reading it again\n",
        "pickle.dump(RFclf, open('tfIDFRFclfModel.sav', 'wb'))\n",
        "RFclf = pickle.load(open('tfIDFRFclfModel.sav', 'rb'))"
      ],
      "execution_count": 33,
      "outputs": [
        {
          "output_type": "stream",
          "name": "stderr",
          "text": [
            "[Parallel(n_jobs=-1)]: Using backend ThreadingBackend with 2 concurrent workers.\n",
            "[Parallel(n_jobs=-1)]: Done  46 tasks      | elapsed:    0.8s\n",
            "[Parallel(n_jobs=-1)]: Done 196 tasks      | elapsed:    5.4s\n",
            "[Parallel(n_jobs=-1)]: Done 446 tasks      | elapsed:    9.1s\n",
            "[Parallel(n_jobs=-1)]: Done 796 tasks      | elapsed:   14.1s\n",
            "[Parallel(n_jobs=-1)]: Done 1000 out of 1000 | elapsed:   18.1s finished\n",
            "[Parallel(n_jobs=2)]: Using backend ThreadingBackend with 2 concurrent workers.\n",
            "[Parallel(n_jobs=2)]: Done  46 tasks      | elapsed:    0.1s\n"
          ]
        },
        {
          "output_type": "stream",
          "name": "stdout",
          "text": [
            "\n",
            "\n",
            "Training time: 18.42766261100769\n"
          ]
        },
        {
          "output_type": "stream",
          "name": "stderr",
          "text": [
            "[Parallel(n_jobs=2)]: Done 196 tasks      | elapsed:    0.3s\n",
            "[Parallel(n_jobs=2)]: Done 446 tasks      | elapsed:    0.6s\n",
            "[Parallel(n_jobs=2)]: Done 796 tasks      | elapsed:    0.9s\n",
            "[Parallel(n_jobs=2)]: Done 1000 out of 1000 | elapsed:    1.1s finished\n"
          ]
        },
        {
          "output_type": "stream",
          "name": "stdout",
          "text": [
            "Testing  time: 1.0878674983978271 \n",
            "\n",
            "\n",
            "Confusion Matrix:\n",
            " [[1252  364]\n",
            " [  28 2828]] \n",
            "\n",
            "              precision    recall  f1-score   support\n",
            "\n",
            "           0       0.98      0.77      0.86      1616\n",
            "           1       0.89      0.99      0.94      2856\n",
            "\n",
            "    accuracy                           0.91      4472\n",
            "   macro avg       0.93      0.88      0.90      4472\n",
            "weighted avg       0.92      0.91      0.91      4472\n",
            " \n",
            "\n",
            "Testing accuracy -->  0.9123434704830053 \n",
            "\n"
          ]
        }
      ]
    },
    {
      "cell_type": "markdown",
      "source": [
        "\n",
        "<a name=\"3.2.5\"></a>\n",
        "**3.2.5 Extra Tree Classifier**"
      ],
      "metadata": {
        "id": "YD43c1SBZMIl"
      }
    },
    {
      "cell_type": "code",
      "metadata": {
        "id": "WGRFGPNG8Udq",
        "colab": {
          "base_uri": "https://localhost:8080/"
        },
        "outputId": "f263fea4-b57e-48f7-ef6c-dd0d66d4f93c"
      },
      "source": [
        "from sklearn.ensemble import ExtraTreesClassifier\n",
        "\n",
        "ETclf = ExtraTreesClassifier(max_depth = 39, bootstrap = True, n_estimators = 1000, criterion = 'gini', random_state = 1,n_jobs = -1, verbose = 1)\n",
        "t0 = time.time()\n",
        "ETclf.fit(X_trainT, y_train)\n",
        "print(\"\\n\\nTraining time:\", time.time()-t0)\n",
        "\n",
        "t0 = time.time()\n",
        "y_pred = ETclf.predict(X_testT)\n",
        "print(\"Testing  time:\", time.time()-t0,\"\\n\\n\")\n",
        "\n",
        "#Model Evaluation\n",
        "print(\"Confusion Matrix:\\n\",confusion_matrix(y_test, y_pred),'\\n')\n",
        "print(classification_report(y_test,y_pred),'\\n')\n",
        "print(\"Testing accuracy --> \",accuracy_score(y_test, y_pred),'\\n')\n",
        "\n",
        "#saving model then reading it again\n",
        "pickle.dump(ETclf, open('tfIDFETclfModel.sav', 'wb'))\n",
        "ETclf = pickle.load(open('tfIDFETclfModel.sav', 'rb'))"
      ],
      "execution_count": 34,
      "outputs": [
        {
          "output_type": "stream",
          "name": "stderr",
          "text": [
            "[Parallel(n_jobs=-1)]: Using backend ThreadingBackend with 2 concurrent workers.\n",
            "[Parallel(n_jobs=-1)]: Done  46 tasks      | elapsed:    0.6s\n",
            "[Parallel(n_jobs=-1)]: Done 196 tasks      | elapsed:    2.5s\n",
            "[Parallel(n_jobs=-1)]: Done 446 tasks      | elapsed:    5.7s\n",
            "[Parallel(n_jobs=-1)]: Done 796 tasks      | elapsed:   10.4s\n",
            "[Parallel(n_jobs=-1)]: Done 1000 out of 1000 | elapsed:   13.9s finished\n",
            "[Parallel(n_jobs=2)]: Using backend ThreadingBackend with 2 concurrent workers.\n",
            "[Parallel(n_jobs=2)]: Done  46 tasks      | elapsed:    0.0s\n",
            "[Parallel(n_jobs=2)]: Done 196 tasks      | elapsed:    0.2s\n"
          ]
        },
        {
          "output_type": "stream",
          "name": "stdout",
          "text": [
            "\n",
            "\n",
            "Training time: 14.21910834312439\n"
          ]
        },
        {
          "output_type": "stream",
          "name": "stderr",
          "text": [
            "[Parallel(n_jobs=2)]: Done 446 tasks      | elapsed:    0.3s\n",
            "[Parallel(n_jobs=2)]: Done 796 tasks      | elapsed:    0.6s\n",
            "[Parallel(n_jobs=2)]: Done 1000 out of 1000 | elapsed:    0.8s finished\n"
          ]
        },
        {
          "output_type": "stream",
          "name": "stdout",
          "text": [
            "Testing  time: 0.7614328861236572 \n",
            "\n",
            "\n",
            "Confusion Matrix:\n",
            " [[1161  455]\n",
            " [  25 2831]] \n",
            "\n",
            "              precision    recall  f1-score   support\n",
            "\n",
            "           0       0.98      0.72      0.83      1616\n",
            "           1       0.86      0.99      0.92      2856\n",
            "\n",
            "    accuracy                           0.89      4472\n",
            "   macro avg       0.92      0.85      0.88      4472\n",
            "weighted avg       0.90      0.89      0.89      4472\n",
            " \n",
            "\n",
            "Testing accuracy -->  0.8926654740608229 \n",
            "\n"
          ]
        }
      ]
    },
    {
      "cell_type": "markdown",
      "source": [
        "\n",
        "<a name=\"3.2.6\"></a>\n",
        "**3.2.6 Gaussian Naive Bayes**"
      ],
      "metadata": {
        "id": "wtJuwo4zZMAH"
      }
    },
    {
      "cell_type": "code",
      "metadata": {
        "id": "uAZL8pPi8Udn",
        "colab": {
          "base_uri": "https://localhost:8080/"
        },
        "outputId": "442cfba7-81d2-481d-956c-22a5d9b7e7f3"
      },
      "source": [
        "from sklearn.naive_bayes import GaussianNB\n",
        "\n",
        "GNBclf = GaussianNB()\n",
        "t0 = time.time()\n",
        "GNBclf.fit(X_trainT.toarray(), y_train)\n",
        "print(\"\\n\\nTraining time:\", time.time()-t0)\n",
        "\n",
        "t0 = time.time()\n",
        "y_pred = GNBclf.predict(X_testT.toarray())\n",
        "print(\"Testing  time:\", time.time()-t0,\"\\n\\n\")\n",
        "\n",
        "#Model Evaluation\n",
        "print(\"Confusion Matrix:\\n\",confusion_matrix(y_test, y_pred),'\\n')\n",
        "print(classification_report(y_test,y_pred),'\\n')\n",
        "print(\"Testing accuracy --> \",accuracy_score(y_test, y_pred),'\\n')\n",
        "\n",
        "#saving model then reading it again\n",
        "pickle.dump(GNBclf, open('tfIDFGNBclfModel.sav', 'wb'))\n",
        "GNBclf = pickle.load(open('tfIDFGNBclfModel.sav', 'rb'))"
      ],
      "execution_count": 35,
      "outputs": [
        {
          "output_type": "stream",
          "name": "stdout",
          "text": [
            "\n",
            "\n",
            "Training time: 2.921837568283081\n",
            "Testing  time: 0.9419021606445312 \n",
            "\n",
            "\n",
            "Confusion Matrix:\n",
            " [[1616    0]\n",
            " [ 583 2273]] \n",
            "\n",
            "              precision    recall  f1-score   support\n",
            "\n",
            "           0       0.73      1.00      0.85      1616\n",
            "           1       1.00      0.80      0.89      2856\n",
            "\n",
            "    accuracy                           0.87      4472\n",
            "   macro avg       0.87      0.90      0.87      4472\n",
            "weighted avg       0.90      0.87      0.87      4472\n",
            " \n",
            "\n",
            "Testing accuracy -->  0.8696332737030411 \n",
            "\n"
          ]
        }
      ]
    },
    {
      "cell_type": "markdown",
      "source": [
        "<a name=\"3.2.7\"></a>\n",
        "**3.2.7 Multinomial Naive Bayes**"
      ],
      "metadata": {
        "id": "2_rKkYn7ZL3x"
      }
    },
    {
      "cell_type": "code",
      "metadata": {
        "id": "x_i53Qme8Udl",
        "colab": {
          "base_uri": "https://localhost:8080/"
        },
        "outputId": "b58cfd64-5368-4a6c-8bed-e6e3ce3ec41b"
      },
      "source": [
        "from sklearn.naive_bayes import MultinomialNB\n",
        "\n",
        "MNBclf = MultinomialNB(class_prior = [0.5, 0.5])\n",
        "t0 = time.time()\n",
        "MNBclf.fit(X_trainT, y_train)\n",
        "print(\"\\n\\nTraining time:\", time.time()-t0)\n",
        "\n",
        "t0 = time.time()\n",
        "y_pred = MNBclf.predict(X_testT)\n",
        "print(\"Testing  time:\", time.time()-t0,\"\\n\\n\")\n",
        "\n",
        "#Model Evaluation\n",
        "print(\"Confusion Matrix:\\n\",confusion_matrix(y_test, y_pred),'\\n')\n",
        "print(classification_report(y_test,y_pred),'\\n')\n",
        "print(\"Testing accuracy --> \",accuracy_score(y_test, y_pred),'\\n')\n",
        "\n",
        "#saving model then reading it again\n",
        "pickle.dump(MNBclf, open('MNBclfModel.sav', 'wb'))\n",
        "MNBclf = pickle.load(open('MNBclfModel.sav', 'rb'))"
      ],
      "execution_count": 36,
      "outputs": [
        {
          "output_type": "stream",
          "name": "stdout",
          "text": [
            "\n",
            "\n",
            "Training time: 0.009484291076660156\n",
            "Testing  time: 0.0015838146209716797 \n",
            "\n",
            "\n",
            "Confusion Matrix:\n",
            " [[1555   61]\n",
            " [ 137 2719]] \n",
            "\n",
            "              precision    recall  f1-score   support\n",
            "\n",
            "           0       0.92      0.96      0.94      1616\n",
            "           1       0.98      0.95      0.96      2856\n",
            "\n",
            "    accuracy                           0.96      4472\n",
            "   macro avg       0.95      0.96      0.95      4472\n",
            "weighted avg       0.96      0.96      0.96      4472\n",
            " \n",
            "\n",
            "Testing accuracy -->  0.9557245080500895 \n",
            "\n"
          ]
        }
      ]
    },
    {
      "cell_type": "markdown",
      "source": [
        "<a name=\"3.2.8\"></a>\n",
        "**3.2.8 Gradient Boosting**"
      ],
      "metadata": {
        "id": "0LkWMgzzZLro"
      }
    },
    {
      "cell_type": "code",
      "metadata": {
        "id": "kOYUmP2J8Uds",
        "colab": {
          "base_uri": "https://localhost:8080/"
        },
        "outputId": "54a50a3c-9362-46ff-e7ea-2ce075f6540c"
      },
      "source": [
        "from sklearn.ensemble import GradientBoostingClassifier\n",
        "\n",
        "GBclf = GradientBoostingClassifier(n_estimators=5000, learning_rate=0.2,max_depth=5, random_state=37, verbose = 1)\n",
        "t0 = time.time()\n",
        "GBclf.fit(X_trainT, y_train)\n",
        "print(\"\\n\\nTraining time:\", time.time()-t0)\n",
        "\n",
        "t0 = time.time()\n",
        "y_pred = GBclf.predict(X_testT)\n",
        "print(\"Testing  time:\", time.time()-t0,\"\\n\\n\")\n",
        "\n",
        "#Model Evaluation\n",
        "print(\"Confusion Matrix:\\n\",confusion_matrix(y_test, y_pred),'\\n')\n",
        "print(classification_report(y_test,y_pred),'\\n')\n",
        "print(\"Testing accuracy --> \",accuracy_score(y_test, y_pred),'\\n')\n",
        "\n",
        "#saving model then reading it again\n",
        "pickle.dump(GBclf, open('tfIDFGBclfModel.sav', 'wb'))\n",
        "GBclf = pickle.load(open('tfIDFGBclfModel.sav', 'rb'))"
      ],
      "execution_count": 37,
      "outputs": [
        {
          "output_type": "stream",
          "name": "stdout",
          "text": [
            "      Iter       Train Loss   Remaining Time \n",
            "         1           1.1459            3.57m\n",
            "         2           1.0385            3.85m\n",
            "         3           0.9688            3.76m\n",
            "         4           0.9110            3.72m\n",
            "         5           0.8600            3.73m\n",
            "         6           0.8294            3.74m\n",
            "         7           0.8009            3.77m\n",
            "         8           0.7709            3.75m\n",
            "         9           0.7457            3.77m\n",
            "        10           0.7268            3.77m\n",
            "        20           0.6003            3.56m\n",
            "        30           0.5265            3.49m\n",
            "        40           0.4796            3.45m\n",
            "        50           0.4416            3.43m\n",
            "        60           0.4083            3.39m\n",
            "        70           0.3810            3.35m\n",
            "        80           0.3594            3.31m\n",
            "        90           0.3385            3.29m\n",
            "       100           0.3215            3.41m\n",
            "       200           0.2232            3.54m\n",
            "       300           0.1758            3.31m\n",
            "       400           0.1471            3.18m\n",
            "       500           0.1306            3.21m\n",
            "       600           0.1194            3.09m\n",
            "       700           0.1121            2.98m\n",
            "       800           0.1073            2.97m\n",
            "       900           0.1037            2.87m\n",
            "      1000           0.1014            2.78m\n",
            "      2000           0.0944            2.07m\n",
            "      3000           0.0932            1.38m\n",
            "      4000           0.0928           41.54s\n",
            "      5000           0.0926            0.00s\n",
            "\n",
            "\n",
            "Training time: 208.514878988266\n",
            "Testing  time: 1.313629150390625 \n",
            "\n",
            "\n",
            "Confusion Matrix:\n",
            " [[1590   26]\n",
            " [  81 2775]] \n",
            "\n",
            "              precision    recall  f1-score   support\n",
            "\n",
            "           0       0.95      0.98      0.97      1616\n",
            "           1       0.99      0.97      0.98      2856\n",
            "\n",
            "    accuracy                           0.98      4472\n",
            "   macro avg       0.97      0.98      0.97      4472\n",
            "weighted avg       0.98      0.98      0.98      4472\n",
            " \n",
            "\n",
            "Testing accuracy -->  0.9760733452593918 \n",
            "\n"
          ]
        }
      ]
    },
    {
      "cell_type": "markdown",
      "source": [
        "<a name=\"3.2.9\"></a>\n",
        "**3.2.9 XG-boost Classifier**"
      ],
      "metadata": {
        "id": "uKD7uH_dZgD2"
      }
    },
    {
      "cell_type": "code",
      "metadata": {
        "id": "fzIdFDZq8Udr",
        "colab": {
          "base_uri": "https://localhost:8080/"
        },
        "outputId": "7f703d2f-3005-4716-b907-7df0bd9d25ff"
      },
      "source": [
        "from xgboost import XGBClassifier\n",
        "\n",
        "XGBclf = XGBClassifier(max_depth = 15, n_estimators = 2000, n_jobs = -1,random_state=37, verbosity=1)\n",
        "t0 = time.time()\n",
        "XGBclf.fit(X_trainT, y_train)\n",
        "print(\"\\n\\nTraining time:\", time.time()-t0)\n",
        "\n",
        "t0 = time.time()\n",
        "y_pred = XGBclf.predict(X_testT)\n",
        "print(\"Testing  time:\", time.time()-t0,\"\\n\\n\")\n",
        "\n",
        "#Model Evaluation\n",
        "print(\"Confusion Matrix:\\n\",confusion_matrix(y_test, y_pred),'\\n')\n",
        "print(classification_report(y_test,y_pred),'\\n')\n",
        "print(\"Testing accuracy --> \",accuracy_score(y_test, y_pred),'\\n')\n",
        "\n",
        "#saving model then reading it again\n",
        "pickle.dump(XGBclf, open('tfIDFXGBclfModel.sav', 'wb'))\n",
        "XGBclf = pickle.load(open('tfIDFXGBclfModel.sav', 'rb'))"
      ],
      "execution_count": 38,
      "outputs": [
        {
          "output_type": "stream",
          "name": "stdout",
          "text": [
            "\n",
            "\n",
            "Training time: 206.66802787780762\n",
            "Testing  time: 1.4023709297180176 \n",
            "\n",
            "\n",
            "Confusion Matrix:\n",
            " [[1590   26]\n",
            " [  75 2781]] \n",
            "\n",
            "              precision    recall  f1-score   support\n",
            "\n",
            "           0       0.95      0.98      0.97      1616\n",
            "           1       0.99      0.97      0.98      2856\n",
            "\n",
            "    accuracy                           0.98      4472\n",
            "   macro avg       0.97      0.98      0.98      4472\n",
            "weighted avg       0.98      0.98      0.98      4472\n",
            " \n",
            "\n",
            "Testing accuracy -->  0.9774150268336315 \n",
            "\n"
          ]
        }
      ]
    },
    {
      "cell_type": "markdown",
      "source": [
        "<a name=\"3.2.10\"></a>\n",
        "**3.2.10 Ada-boost Classifier**"
      ],
      "metadata": {
        "id": "-GvgcGaPZfxG"
      }
    },
    {
      "cell_type": "code",
      "metadata": {
        "id": "QVdwDdwz8Udr",
        "colab": {
          "base_uri": "https://localhost:8080/"
        },
        "outputId": "da44fb12-3b7e-4196-f34d-0f3bdc3ae3b3"
      },
      "source": [
        "from sklearn.ensemble import AdaBoostClassifier\n",
        "\n",
        "ADBclf = AdaBoostClassifier(n_estimators=10000, random_state=37, learning_rate = 0.1, algorithm='SAMME')\n",
        "t0 = time.time()\n",
        "ADBclf.fit(X_trainT, y_train)\n",
        "print(\"\\n\\nTraining time:\", time.time()-t0)\n",
        "\n",
        "t0 = time.time()\n",
        "y_pred = ADBclf.predict(X_testT)\n",
        "print(\"Testing  time:\", time.time()-t0,\"\\n\\n\")\n",
        "\n",
        "#Model Evaluation\n",
        "print(\"Confusion Matrix:\\n\",confusion_matrix(y_test, y_pred),'\\n')\n",
        "print(classification_report(y_test,y_pred),'\\n')\n",
        "print(\"Testing accuracy --> \",accuracy_score(y_test, y_pred),'\\n')\n",
        "\n",
        "#saving model then reading it again\n",
        "pickle.dump(ADBclf, open('tfIDFADBclfModel.sav', 'wb'))\n",
        "ADBclf = pickle.load(open('tfIDFADBclfModel.sav', 'rb'))"
      ],
      "execution_count": 39,
      "outputs": [
        {
          "output_type": "stream",
          "name": "stdout",
          "text": [
            "\n",
            "\n",
            "Training time: 139.89428448677063\n",
            "Testing  time: 7.141687631607056 \n",
            "\n",
            "\n",
            "Confusion Matrix:\n",
            " [[1151  465]\n",
            " [  63 2793]] \n",
            "\n",
            "              precision    recall  f1-score   support\n",
            "\n",
            "           0       0.95      0.71      0.81      1616\n",
            "           1       0.86      0.98      0.91      2856\n",
            "\n",
            "    accuracy                           0.88      4472\n",
            "   macro avg       0.90      0.85      0.86      4472\n",
            "weighted avg       0.89      0.88      0.88      4472\n",
            " \n",
            "\n",
            "Testing accuracy -->  0.8819320214669052 \n",
            "\n"
          ]
        }
      ]
    },
    {
      "cell_type": "markdown",
      "source": [
        "<a name=\"3.2.11\"></a>\n",
        "**3.2.11 MLPClassifier**"
      ],
      "metadata": {
        "id": "Udpod6aLZfpL"
      }
    },
    {
      "cell_type": "code",
      "metadata": {
        "id": "vLSxX9TB8Udq",
        "colab": {
          "base_uri": "https://localhost:8080/"
        },
        "outputId": "4d8bfda2-48f0-4785-e700-dd972fac5302"
      },
      "source": [
        "from sklearn.neural_network import MLPClassifier\n",
        "\n",
        "MLPclf = MLPClassifier(batch_size = 512, early_stopping=True, hidden_layer_sizes=(256,128,64,32,16), random_state=37 ,max_iter=450, learning_rate_init=0.01, tol=0.0000001,n_iter_no_change = 20) #, verbose = True\n",
        "t0 = time.time()\n",
        "MLPclf.fit(X_trainT, y_train)\n",
        "print(\"\\n\\nTraining time:\", time.time()-t0)\n",
        "\n",
        "t0 = time.time()\n",
        "y_pred = MLPclf.predict(X_testT)\n",
        "print(\"Testing  time:\", time.time()-t0,\"\\n\\n\")\n",
        "\n",
        "#Model Evaluation\n",
        "print(\"Confusion Matrix:\\n\",confusion_matrix(y_test, y_pred),'\\n')\n",
        "print(classification_report(y_test,y_pred),'\\n')\n",
        "print(\"Testing accuracy --> \",accuracy_score(y_test, y_pred),'\\n')\n",
        "\n",
        "#saving model then reading it again\n",
        "pickle.dump(MLPclf, open('tfIDFbestMLPModel.sav', 'wb'))\n",
        "MLPclf = pickle.load(open('tfIDFbestMLPModel.sav', 'rb'))"
      ],
      "execution_count": 40,
      "outputs": [
        {
          "output_type": "stream",
          "name": "stdout",
          "text": [
            "\n",
            "\n",
            "Training time: 48.247984647750854\n",
            "Testing  time: 0.05419421195983887 \n",
            "\n",
            "\n",
            "Confusion Matrix:\n",
            " [[1585   31]\n",
            " [  71 2785]] \n",
            "\n",
            "              precision    recall  f1-score   support\n",
            "\n",
            "           0       0.96      0.98      0.97      1616\n",
            "           1       0.99      0.98      0.98      2856\n",
            "\n",
            "    accuracy                           0.98      4472\n",
            "   macro avg       0.97      0.98      0.98      4472\n",
            "weighted avg       0.98      0.98      0.98      4472\n",
            " \n",
            "\n",
            "Testing accuracy -->  0.9771914132379249 \n",
            "\n"
          ]
        }
      ]
    },
    {
      "cell_type": "markdown",
      "source": [
        "<a name=\"3.2.12\"></a>\n",
        "**3.2.12 VotingClassifier**"
      ],
      "metadata": {
        "id": "Ynvoa2EmZfb7"
      }
    },
    {
      "cell_type": "code",
      "metadata": {
        "id": "wcmYTclI8Uds",
        "colab": {
          "base_uri": "https://localhost:8080/"
        },
        "outputId": "d1582cdc-4b7c-4d00-f3a4-48dd07ed97e8"
      },
      "source": [
        "# 1\n",
        "from sklearn.linear_model import LogisticRegression\n",
        "LOGclf = LogisticRegression(random_state=0, n_jobs = -1, max_iter = 200, verbose= 1)\n",
        "\n",
        "# 2\n",
        "from sklearn.neighbors import KNeighborsClassifier\n",
        "KNNclf = KNeighborsClassifier(n_neighbors = 5, metric = 'minkowski',n_jobs = -1)\n",
        "\n",
        "# 3\n",
        "from sklearn.svm import SVC\n",
        "SVMclf = SVC(probability=False,random_state=1, kernel='rbf')\n",
        "\n",
        "# 4\n",
        "from sklearn.ensemble import RandomForestClassifier \n",
        "RFclf = RandomForestClassifier(max_depth = 39, bootstrap = True, n_estimators = 1000, criterion = 'gini', random_state = 1,n_jobs = -1, verbose = 1)\n",
        "\n",
        "# 5\n",
        "from sklearn.ensemble import ExtraTreesClassifier\n",
        "ETclf = ExtraTreesClassifier(max_depth = 39, bootstrap = True, n_estimators = 1000, criterion = 'gini', random_state = 1,n_jobs = -1, verbose = 1)\n",
        "# ETclf = ExtraTreesClassifier(max_depth = 39, bootstrap = True, n_estimators = 500, criterion = 'gini', n_jobs = -1,max_samples=0.8,max_features=6,random_state=37)\n",
        "\n",
        "# 6\n",
        "from sklearn.naive_bayes import MultinomialNB\n",
        "MNBclf = MultinomialNB()\n",
        "\n",
        "# 7\n",
        "from sklearn.ensemble import GradientBoostingClassifier\n",
        "GBclf = GradientBoostingClassifier(n_estimators=5000, learning_rate=0.2,max_depth=5, random_state=37, verbose = 1)\n",
        "\n",
        "# 8\n",
        "from xgboost import XGBClassifier\n",
        "XGBclf = XGBClassifier(max_depth = 15, n_estimators = 10000, n_jobs = -1,random_state=37, verbosity=1)\n",
        "\n",
        "# 9\n",
        "from sklearn.ensemble import AdaBoostClassifier\n",
        "ADBclf = AdaBoostClassifier(n_estimators=30000, random_state=37, learning_rate = 0.1, algorithm='SAMME')\n",
        "\n",
        "# 10\n",
        "from sklearn.neural_network import MLPClassifier\n",
        "MLPclf = MLPClassifier(batch_size = 512, early_stopping=True, hidden_layer_sizes=(256,128,64,32,16), random_state=37 ,max_iter=450, learning_rate_init=0.01, tol=0.0000001,n_iter_no_change = 20) # , verbose = True\n",
        "\n",
        "\n",
        "\n",
        "from sklearn.ensemble import VotingClassifier\n",
        "\n",
        "tfIDFclf = VotingClassifier(estimators=[('RFclf', RFclf),('ETclf', ETclf),('MLPclf', MLPclf),('LOGclf', LOGclf),('SVMclf', SVMclf),('XGBclf', XGBclf),('ADBclf', ADBclf),('GBclf', GBclf),('MNBclf',MNBclf),('KNNclf',KNNclf)], voting='hard', weights=[2,2,2,1,2,2,1,2,2,2], flatten_transform=True)\n",
        "t0 = time.time()\n",
        "tfIDFclf.fit(X_trainT, y_train)\n",
        "print(\"\\n\\nTraining time:\", time.time()-t0)\n",
        "\n",
        "t0 = time.time()\n",
        "y_pred_tfIDF = tfIDFclf.predict(X_testT)\n",
        "print(\"\\n\\nTesting  time:\", time.time()-t0)\n",
        "\n",
        "#Model Evaluation\n",
        "print(\"Confusion Matrix:\\n\",confusion_matrix(y_test, y_pred),'\\n')\n",
        "print(classification_report(y_test,y_pred),'\\n')\n",
        "print(\"Testing accuracy --> \",accuracy_score(y_test, y_pred),'\\n')\n"
      ],
      "execution_count": 41,
      "outputs": [
        {
          "output_type": "stream",
          "name": "stderr",
          "text": [
            "[Parallel(n_jobs=-1)]: Using backend LokyBackend with 2 concurrent workers.\n",
            "[Parallel(n_jobs=-1)]: Done 110 tasks      | elapsed:    4.3s\n",
            "[Parallel(n_jobs=-1)]: Done 710 tasks      | elapsed:   13.5s\n",
            "[Parallel(n_jobs=-1)]: Done 1000 out of 1000 | elapsed:   19.3s finished\n",
            "[Parallel(n_jobs=-1)]: Using backend LokyBackend with 2 concurrent workers.\n",
            "[Parallel(n_jobs=-1)]: Done 300 tasks      | elapsed:    4.0s\n",
            "[Parallel(n_jobs=-1)]: Done 1000 out of 1000 | elapsed:   14.6s finished\n",
            "[Parallel(n_jobs=-1)]: Using backend LokyBackend with 2 concurrent workers.\n",
            "[Parallel(n_jobs=-1)]: Done   1 out of   1 | elapsed:    0.2s finished\n"
          ]
        },
        {
          "output_type": "stream",
          "name": "stdout",
          "text": [
            "      Iter       Train Loss   Remaining Time \n",
            "         1           1.1459            3.39m\n",
            "         2           1.0385            3.48m\n",
            "         3           0.9688            3.53m\n",
            "         4           0.9110            3.47m\n",
            "         5           0.8600            3.55m\n",
            "         6           0.8294            3.52m\n",
            "         7           0.8009            3.53m\n",
            "         8           0.7709            3.53m\n",
            "         9           0.7457            3.54m\n",
            "        10           0.7268            3.56m\n",
            "        20           0.6003            3.46m\n",
            "        30           0.5265            3.45m\n",
            "        40           0.4796            3.39m\n",
            "        50           0.4416            3.36m\n",
            "        60           0.4083            3.34m\n",
            "        70           0.3810            3.31m\n",
            "        80           0.3594            3.30m\n",
            "        90           0.3385            3.28m\n",
            "       100           0.3215            3.25m\n",
            "       200           0.2232            3.52m\n",
            "       300           0.1758            3.28m\n",
            "       400           0.1471            3.14m\n",
            "       500           0.1306            3.17m\n",
            "       600           0.1194            3.05m\n",
            "       700           0.1121            2.95m\n",
            "       800           0.1073            2.93m\n",
            "       900           0.1037            2.84m\n",
            "      1000           0.1014            2.75m\n",
            "      2000           0.0944            2.06m\n",
            "      3000           0.0932            1.39m\n",
            "      4000           0.0928           41.79s\n",
            "      5000           0.0926            0.00s\n",
            "\n",
            "\n",
            "Training time: 1730.4696216583252\n"
          ]
        },
        {
          "output_type": "stream",
          "name": "stderr",
          "text": [
            "[Parallel(n_jobs=2)]: Using backend ThreadingBackend with 2 concurrent workers.\n",
            "[Parallel(n_jobs=2)]: Done  46 tasks      | elapsed:    0.0s\n",
            "[Parallel(n_jobs=2)]: Done 196 tasks      | elapsed:    0.1s\n",
            "[Parallel(n_jobs=2)]: Done 446 tasks      | elapsed:    0.3s\n",
            "[Parallel(n_jobs=2)]: Done 796 tasks      | elapsed:    0.6s\n",
            "[Parallel(n_jobs=2)]: Done 1000 out of 1000 | elapsed:    0.8s finished\n",
            "[Parallel(n_jobs=2)]: Using backend ThreadingBackend with 2 concurrent workers.\n",
            "[Parallel(n_jobs=2)]: Done  46 tasks      | elapsed:    0.0s\n",
            "[Parallel(n_jobs=2)]: Done 196 tasks      | elapsed:    0.1s\n",
            "[Parallel(n_jobs=2)]: Done 446 tasks      | elapsed:    0.3s\n",
            "[Parallel(n_jobs=2)]: Done 796 tasks      | elapsed:    0.6s\n",
            "[Parallel(n_jobs=2)]: Done 1000 out of 1000 | elapsed:    0.7s finished\n"
          ]
        },
        {
          "output_type": "stream",
          "name": "stdout",
          "text": [
            "\n",
            "\n",
            "Testing  time: 39.85480999946594\n",
            "Confusion Matrix:\n",
            " [[1585   31]\n",
            " [  71 2785]] \n",
            "\n",
            "              precision    recall  f1-score   support\n",
            "\n",
            "           0       0.96      0.98      0.97      1616\n",
            "           1       0.99      0.98      0.98      2856\n",
            "\n",
            "    accuracy                           0.98      4472\n",
            "   macro avg       0.97      0.98      0.98      4472\n",
            "weighted avg       0.98      0.98      0.98      4472\n",
            " \n",
            "\n",
            "Testing accuracy -->  0.9771914132379249 \n",
            "\n"
          ]
        }
      ]
    },
    {
      "cell_type": "code",
      "metadata": {
        "id": "2RwCRdLY5tmL",
        "colab": {
          "base_uri": "https://localhost:8080/"
        },
        "outputId": "b8013dba-7189-4412-99ae-7f045fd6628c"
      },
      "source": [
        "tfIDFclf.fit(X_T, y)\n",
        "\n",
        "#saving model then reading it again\n",
        "pickle.dump(tfIDFclf, open('tfIDFfinalBestModel.sav', 'wb'))\n",
        "tfIDFclf = pickle.load(open('tfIDFfinalBestModel.sav', 'rb'))"
      ],
      "execution_count": 42,
      "outputs": [
        {
          "output_type": "stream",
          "name": "stderr",
          "text": [
            "[Parallel(n_jobs=-1)]: Using backend LokyBackend with 2 concurrent workers.\n",
            "[Parallel(n_jobs=-1)]: Done  68 tasks      | elapsed:    4.0s\n",
            "[Parallel(n_jobs=-1)]: Done 632 tasks      | elapsed:   17.8s\n",
            "[Parallel(n_jobs=-1)]: Done 1000 out of 1000 | elapsed:   25.7s finished\n",
            "[Parallel(n_jobs=-1)]: Using backend LokyBackend with 2 concurrent workers.\n",
            "[Parallel(n_jobs=-1)]: Done 164 tasks      | elapsed:    4.7s\n",
            "[Parallel(n_jobs=-1)]: Done 764 tasks      | elapsed:   17.6s\n",
            "[Parallel(n_jobs=-1)]: Done 1000 out of 1000 | elapsed:   22.3s finished\n",
            "[Parallel(n_jobs=-1)]: Using backend LokyBackend with 2 concurrent workers.\n",
            "[Parallel(n_jobs=-1)]: Done   1 out of   1 | elapsed:    0.2s finished\n"
          ]
        },
        {
          "output_type": "stream",
          "name": "stdout",
          "text": [
            "      Iter       Train Loss   Remaining Time \n",
            "         1           1.1464            4.78m\n",
            "         2           1.0499            4.75m\n",
            "         3           0.9802            4.87m\n",
            "         4           0.9161            4.99m\n",
            "         5           0.8639            5.01m\n",
            "         6           0.8295            5.00m\n",
            "         7           0.7949            5.34m\n",
            "         8           0.7705            5.28m\n",
            "         9           0.7461            5.22m\n",
            "        10           0.7222            5.15m\n",
            "        20           0.6057            4.99m\n",
            "        30           0.5218            4.95m\n",
            "        40           0.4729            4.89m\n",
            "        50           0.4338            4.82m\n",
            "        60           0.4066            4.79m\n",
            "        70           0.3771            4.75m\n",
            "        80           0.3584            4.71m\n",
            "        90           0.3395            4.68m\n",
            "       100           0.3229            4.65m\n",
            "       200           0.2270            4.83m\n",
            "       300           0.1785            4.57m\n",
            "       400           0.1505            4.52m\n",
            "       500           0.1331            4.40m\n",
            "       600           0.1224            4.28m\n",
            "       700           0.1152            4.22m\n",
            "       800           0.1101            4.08m\n",
            "       900           0.1065            4.02m\n",
            "      1000           0.1040            3.89m\n",
            "      2000           0.0962            2.94m\n",
            "      3000           0.0950            1.98m\n",
            "      4000           0.0945           59.26s\n",
            "      5000           0.0943            0.00s\n"
          ]
        }
      ]
    },
    {
      "cell_type": "code",
      "metadata": {
        "id": "k3AoRbXmVt1h"
      },
      "source": [
        "pickle.dump(y_pred_countVec, open('y_pred_countVec.sav', 'wb'))\n",
        "pickle.dump(y_pred_tfIDF, open('y_pred_tfIDF.sav', 'wb'))"
      ],
      "execution_count": 43,
      "outputs": []
    },
    {
      "cell_type": "markdown",
      "metadata": {
        "id": "7O_2A8MYiJMP"
      },
      "source": [
        "<a name=\"4\"></a>\n",
        "## 4- Cummulative Evaluation\n",
        "**Cumulative evaluation** assesses the performance of machine learning methods over time. It involves tracking the accuracy, precision, recall, and other metrics over multiple iterations or runs."
      ]
    },
    {
      "cell_type": "code",
      "metadata": {
        "id": "Hj61eKqoiR0j",
        "colab": {
          "base_uri": "https://localhost:8080/"
        },
        "outputId": "c7502fe0-6104-4ad6-e4be-bdc47de779e9"
      },
      "source": [
        "from scipy import stats\n",
        "\n",
        "#reading saved models\n",
        "y_pred_tfIDF = pickle.load(open('y_pred_tfIDF.sav', 'rb'))\n",
        "y_pred_countVec = pickle.load(open('y_pred_countVec.sav', 'rb'))\n",
        "\n",
        "y_pred_final = np.array([y_pred_tfIDF, y_pred_countVec])\n",
        "y_pred_final = stats.mode(y_pred_final)\n",
        "y_pred_final = y_pred_final[0][0]\n",
        "\n",
        "#print(y_pred_final)\n",
        "print(\"Confusion Matrix:\\n\",confusion_matrix(y_test, y_pred_final),'\\n')\n",
        "print(classification_report(y_test, y_pred_final),'\\n')\n",
        "print(\"Testing accuracy --> \",accuracy_score(y_test, y_pred_final),'\\n')"
      ],
      "execution_count": 44,
      "outputs": [
        {
          "output_type": "stream",
          "name": "stdout",
          "text": [
            "Confusion Matrix:\n",
            " [[1578   38]\n",
            " [  53 2803]] \n",
            "\n",
            "              precision    recall  f1-score   support\n",
            "\n",
            "           0       0.97      0.98      0.97      1616\n",
            "           1       0.99      0.98      0.98      2856\n",
            "\n",
            "    accuracy                           0.98      4472\n",
            "   macro avg       0.98      0.98      0.98      4472\n",
            "weighted avg       0.98      0.98      0.98      4472\n",
            " \n",
            "\n",
            "Testing accuracy -->  0.9796511627906976 \n",
            "\n"
          ]
        }
      ]
    },
    {
      "cell_type": "markdown",
      "source": [
        "<a name=\"5\"></a>\n",
        "## 5- Conclusion\n",
        "\n",
        "After the methods are evaluated using the evaluation metrics:\n",
        "\n",
        "- Support Vector Machine  Classifier, along with oversampling and TFIDF techniques, had the best performance among the other methods. It successfully achieved an accuracy of 0.980.\n",
        "\n",
        "- Although VotingClassifier is considered the method with the highest accuracy of 0.981, it tooks a considerable amount of training time, nearly 23m with a slight difference in accuracy, which was a major drawback.\n",
        "\n",
        "- K-nearest Neighbors, along with undersampling and count vectorizer techniques, got the lowest accuracy of 0.84.\n",
        "\n",
        "- XGBClassifier took a long time in training while maintaining moderate accuracy."
      ],
      "metadata": {
        "id": "6WSezvrOERUy"
      }
    }
  ]
}